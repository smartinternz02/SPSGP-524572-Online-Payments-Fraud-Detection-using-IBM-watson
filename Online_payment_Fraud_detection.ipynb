{
 "cells": [
  {
   "cell_type": "code",
   "execution_count": 1,
   "id": "72896101",
   "metadata": {},
   "outputs": [
    {
     "ename": "ModuleNotFoundError",
     "evalue": "No module named 'sklearn'",
     "output_type": "error",
     "traceback": [
      "\u001b[1;31m---------------------------------------------------------------------------\u001b[0m",
      "\u001b[1;31mModuleNotFoundError\u001b[0m                       Traceback (most recent call last)",
      "Cell \u001b[1;32mIn[1], line 7\u001b[0m\n\u001b[0;32m      5\u001b[0m \u001b[39mimport\u001b[39;00m \u001b[39mseaborn\u001b[39;00m \u001b[39mas\u001b[39;00m \u001b[39msns\u001b[39;00m\n\u001b[0;32m      6\u001b[0m \u001b[39mfrom\u001b[39;00m \u001b[39mscipy\u001b[39;00m \u001b[39mimport\u001b[39;00m stats\n\u001b[1;32m----> 7\u001b[0m \u001b[39mfrom\u001b[39;00m \u001b[39msklearn\u001b[39;00m\u001b[39m.\u001b[39;00m\u001b[39mpreprocessing\u001b[39;00m \u001b[39mimport\u001b[39;00m LabelEncoder\n\u001b[0;32m      8\u001b[0m \u001b[39mfrom\u001b[39;00m \u001b[39msklearn\u001b[39;00m\u001b[39m.\u001b[39;00m\u001b[39mmodel_selection\u001b[39;00m \u001b[39mimport\u001b[39;00m train_test_split\n\u001b[0;32m      9\u001b[0m \u001b[39mfrom\u001b[39;00m \u001b[39msklearn\u001b[39;00m\u001b[39m.\u001b[39;00m\u001b[39mensemble\u001b[39;00m \u001b[39mimport\u001b[39;00m RandomForestClassifier\n",
      "\u001b[1;31mModuleNotFoundError\u001b[0m: No module named 'sklearn'"
     ]
    }
   ],
   "source": [
    "#Importing the libraries\n",
    "import numpy as np\n",
    "import pandas as pd\n",
    "import matplotlib.pyplot as plt\n",
    "import seaborn as sns\n",
    "from scipy import stats\n",
    "from sklearn.preprocessing import LabelEncoder\n",
    "from sklearn.model_selection import train_test_split\n",
    "from sklearn.ensemble import RandomForestClassifier\n",
    "from sklearn.metrics import accuracy_score\n",
    "from sklearn.tree import DecisionTreeClassifier\n",
    "from sklearn.ensemble import ExtraTreesClassifier\n",
    "from sklearn.svm import SVC\n",
    "import xgboost as xgb\n",
    "from sklearn.metrics import f1_score\n",
    "from sklearn.metrics import classification_report, confusion_matrix\n",
    "import warnings\n",
    "import pickle"
   ]
  },
  {
   "cell_type": "code",
   "execution_count": 105,
   "id": "762e1e76",
   "metadata": {},
   "outputs": [
    {
     "data": {
      "text/html": [
       "<div>\n",
       "<style scoped>\n",
       "    .dataframe tbody tr th:only-of-type {\n",
       "        vertical-align: middle;\n",
       "    }\n",
       "\n",
       "    .dataframe tbody tr th {\n",
       "        vertical-align: top;\n",
       "    }\n",
       "\n",
       "    .dataframe thead th {\n",
       "        text-align: right;\n",
       "    }\n",
       "</style>\n",
       "<table border=\"1\" class=\"dataframe\">\n",
       "  <thead>\n",
       "    <tr style=\"text-align: right;\">\n",
       "      <th></th>\n",
       "      <th>step</th>\n",
       "      <th>type</th>\n",
       "      <th>amount</th>\n",
       "      <th>nameOrig</th>\n",
       "      <th>oldbalanceOrg</th>\n",
       "      <th>newbalanceOrig</th>\n",
       "      <th>nameDest</th>\n",
       "      <th>oldbalanceDest</th>\n",
       "      <th>newbalanceDest</th>\n",
       "      <th>isFraud</th>\n",
       "      <th>isFlaggedFraud</th>\n",
       "    </tr>\n",
       "  </thead>\n",
       "  <tbody>\n",
       "    <tr>\n",
       "      <th>0</th>\n",
       "      <td>1</td>\n",
       "      <td>PAYMENT</td>\n",
       "      <td>9839.64</td>\n",
       "      <td>C1231006815</td>\n",
       "      <td>170136.00</td>\n",
       "      <td>160296.36</td>\n",
       "      <td>M1979787155</td>\n",
       "      <td>0.00</td>\n",
       "      <td>0.00</td>\n",
       "      <td>0</td>\n",
       "      <td>0</td>\n",
       "    </tr>\n",
       "    <tr>\n",
       "      <th>1</th>\n",
       "      <td>1</td>\n",
       "      <td>PAYMENT</td>\n",
       "      <td>1864.28</td>\n",
       "      <td>C1666544295</td>\n",
       "      <td>21249.00</td>\n",
       "      <td>19384.72</td>\n",
       "      <td>M2044282225</td>\n",
       "      <td>0.00</td>\n",
       "      <td>0.00</td>\n",
       "      <td>0</td>\n",
       "      <td>0</td>\n",
       "    </tr>\n",
       "    <tr>\n",
       "      <th>2</th>\n",
       "      <td>1</td>\n",
       "      <td>TRANSFER</td>\n",
       "      <td>181.00</td>\n",
       "      <td>C1305486145</td>\n",
       "      <td>181.00</td>\n",
       "      <td>0.00</td>\n",
       "      <td>C553264065</td>\n",
       "      <td>0.00</td>\n",
       "      <td>0.00</td>\n",
       "      <td>1</td>\n",
       "      <td>0</td>\n",
       "    </tr>\n",
       "    <tr>\n",
       "      <th>3</th>\n",
       "      <td>1</td>\n",
       "      <td>CASH_OUT</td>\n",
       "      <td>181.00</td>\n",
       "      <td>C840083671</td>\n",
       "      <td>181.00</td>\n",
       "      <td>0.00</td>\n",
       "      <td>C38997010</td>\n",
       "      <td>21182.00</td>\n",
       "      <td>0.00</td>\n",
       "      <td>1</td>\n",
       "      <td>0</td>\n",
       "    </tr>\n",
       "    <tr>\n",
       "      <th>4</th>\n",
       "      <td>1</td>\n",
       "      <td>PAYMENT</td>\n",
       "      <td>11668.14</td>\n",
       "      <td>C2048537720</td>\n",
       "      <td>41554.00</td>\n",
       "      <td>29885.86</td>\n",
       "      <td>M1230701703</td>\n",
       "      <td>0.00</td>\n",
       "      <td>0.00</td>\n",
       "      <td>0</td>\n",
       "      <td>0</td>\n",
       "    </tr>\n",
       "    <tr>\n",
       "      <th>...</th>\n",
       "      <td>...</td>\n",
       "      <td>...</td>\n",
       "      <td>...</td>\n",
       "      <td>...</td>\n",
       "      <td>...</td>\n",
       "      <td>...</td>\n",
       "      <td>...</td>\n",
       "      <td>...</td>\n",
       "      <td>...</td>\n",
       "      <td>...</td>\n",
       "      <td>...</td>\n",
       "    </tr>\n",
       "    <tr>\n",
       "      <th>1048570</th>\n",
       "      <td>95</td>\n",
       "      <td>CASH_OUT</td>\n",
       "      <td>132557.35</td>\n",
       "      <td>C1179511630</td>\n",
       "      <td>479803.00</td>\n",
       "      <td>347245.65</td>\n",
       "      <td>C435674507</td>\n",
       "      <td>484329.37</td>\n",
       "      <td>616886.72</td>\n",
       "      <td>0</td>\n",
       "      <td>0</td>\n",
       "    </tr>\n",
       "    <tr>\n",
       "      <th>1048571</th>\n",
       "      <td>95</td>\n",
       "      <td>PAYMENT</td>\n",
       "      <td>9917.36</td>\n",
       "      <td>C1956161225</td>\n",
       "      <td>90545.00</td>\n",
       "      <td>80627.64</td>\n",
       "      <td>M668364942</td>\n",
       "      <td>0.00</td>\n",
       "      <td>0.00</td>\n",
       "      <td>0</td>\n",
       "      <td>0</td>\n",
       "    </tr>\n",
       "    <tr>\n",
       "      <th>1048572</th>\n",
       "      <td>95</td>\n",
       "      <td>PAYMENT</td>\n",
       "      <td>14140.05</td>\n",
       "      <td>C2037964975</td>\n",
       "      <td>20545.00</td>\n",
       "      <td>6404.95</td>\n",
       "      <td>M1355182933</td>\n",
       "      <td>0.00</td>\n",
       "      <td>0.00</td>\n",
       "      <td>0</td>\n",
       "      <td>0</td>\n",
       "    </tr>\n",
       "    <tr>\n",
       "      <th>1048573</th>\n",
       "      <td>95</td>\n",
       "      <td>PAYMENT</td>\n",
       "      <td>10020.05</td>\n",
       "      <td>C1633237354</td>\n",
       "      <td>90605.00</td>\n",
       "      <td>80584.95</td>\n",
       "      <td>M1964992463</td>\n",
       "      <td>0.00</td>\n",
       "      <td>0.00</td>\n",
       "      <td>0</td>\n",
       "      <td>0</td>\n",
       "    </tr>\n",
       "    <tr>\n",
       "      <th>1048574</th>\n",
       "      <td>95</td>\n",
       "      <td>PAYMENT</td>\n",
       "      <td>11450.03</td>\n",
       "      <td>C1264356443</td>\n",
       "      <td>80584.95</td>\n",
       "      <td>69134.92</td>\n",
       "      <td>M677577406</td>\n",
       "      <td>0.00</td>\n",
       "      <td>0.00</td>\n",
       "      <td>0</td>\n",
       "      <td>0</td>\n",
       "    </tr>\n",
       "  </tbody>\n",
       "</table>\n",
       "<p>1048575 rows × 11 columns</p>\n",
       "</div>"
      ],
      "text/plain": [
       "         step      type     amount     nameOrig  oldbalanceOrg  \\\n",
       "0           1   PAYMENT    9839.64  C1231006815      170136.00   \n",
       "1           1   PAYMENT    1864.28  C1666544295       21249.00   \n",
       "2           1  TRANSFER     181.00  C1305486145         181.00   \n",
       "3           1  CASH_OUT     181.00   C840083671         181.00   \n",
       "4           1   PAYMENT   11668.14  C2048537720       41554.00   \n",
       "...       ...       ...        ...          ...            ...   \n",
       "1048570    95  CASH_OUT  132557.35  C1179511630      479803.00   \n",
       "1048571    95   PAYMENT    9917.36  C1956161225       90545.00   \n",
       "1048572    95   PAYMENT   14140.05  C2037964975       20545.00   \n",
       "1048573    95   PAYMENT   10020.05  C1633237354       90605.00   \n",
       "1048574    95   PAYMENT   11450.03  C1264356443       80584.95   \n",
       "\n",
       "         newbalanceOrig     nameDest  oldbalanceDest  newbalanceDest  isFraud  \\\n",
       "0             160296.36  M1979787155            0.00            0.00        0   \n",
       "1              19384.72  M2044282225            0.00            0.00        0   \n",
       "2                  0.00   C553264065            0.00            0.00        1   \n",
       "3                  0.00    C38997010        21182.00            0.00        1   \n",
       "4              29885.86  M1230701703            0.00            0.00        0   \n",
       "...                 ...          ...             ...             ...      ...   \n",
       "1048570       347245.65   C435674507       484329.37       616886.72        0   \n",
       "1048571        80627.64   M668364942            0.00            0.00        0   \n",
       "1048572         6404.95  M1355182933            0.00            0.00        0   \n",
       "1048573        80584.95  M1964992463            0.00            0.00        0   \n",
       "1048574        69134.92   M677577406            0.00            0.00        0   \n",
       "\n",
       "         isFlaggedFraud  \n",
       "0                     0  \n",
       "1                     0  \n",
       "2                     0  \n",
       "3                     0  \n",
       "4                     0  \n",
       "...                 ...  \n",
       "1048570               0  \n",
       "1048571               0  \n",
       "1048572               0  \n",
       "1048573               0  \n",
       "1048574               0  \n",
       "\n",
       "[1048575 rows x 11 columns]"
      ]
     },
     "execution_count": 105,
     "metadata": {},
     "output_type": "execute_result"
    }
   ],
   "source": [
    "#Reading the csv file\n",
    "df=pd.read_csv(r\"C:/Users/DELL/Desktop/PS_20174392719_1491204439457_log.csv\")\n",
    "df"
   ]
  },
  {
   "cell_type": "code",
   "execution_count": 106,
   "id": "b5a9d1dd",
   "metadata": {},
   "outputs": [
    {
     "data": {
      "text/plain": [
       "Index(['step', 'type', 'amount', 'nameOrig', 'oldbalanceOrg', 'newbalanceOrig',\n",
       "       'nameDest', 'oldbalanceDest', 'newbalanceDest', 'isFraud',\n",
       "       'isFlaggedFraud'],\n",
       "      dtype='object')"
      ]
     },
     "execution_count": 106,
     "metadata": {},
     "output_type": "execute_result"
    }
   ],
   "source": [
    "df.columns"
   ]
  },
  {
   "cell_type": "code",
   "execution_count": 107,
   "id": "5bc36dec",
   "metadata": {},
   "outputs": [],
   "source": [
    "df.drop(['isFlaggedFraud'],axis=1,inplace=True)"
   ]
  },
  {
   "cell_type": "code",
   "execution_count": 108,
   "id": "9e4469f4",
   "metadata": {},
   "outputs": [
    {
     "data": {
      "text/html": [
       "<div>\n",
       "<style scoped>\n",
       "    .dataframe tbody tr th:only-of-type {\n",
       "        vertical-align: middle;\n",
       "    }\n",
       "\n",
       "    .dataframe tbody tr th {\n",
       "        vertical-align: top;\n",
       "    }\n",
       "\n",
       "    .dataframe thead th {\n",
       "        text-align: right;\n",
       "    }\n",
       "</style>\n",
       "<table border=\"1\" class=\"dataframe\">\n",
       "  <thead>\n",
       "    <tr style=\"text-align: right;\">\n",
       "      <th></th>\n",
       "      <th>step</th>\n",
       "      <th>type</th>\n",
       "      <th>amount</th>\n",
       "      <th>nameOrig</th>\n",
       "      <th>oldbalanceOrg</th>\n",
       "      <th>newbalanceOrig</th>\n",
       "      <th>nameDest</th>\n",
       "      <th>oldbalanceDest</th>\n",
       "      <th>newbalanceDest</th>\n",
       "      <th>isFraud</th>\n",
       "    </tr>\n",
       "  </thead>\n",
       "  <tbody>\n",
       "    <tr>\n",
       "      <th>0</th>\n",
       "      <td>1</td>\n",
       "      <td>PAYMENT</td>\n",
       "      <td>9839.64</td>\n",
       "      <td>C1231006815</td>\n",
       "      <td>170136.00</td>\n",
       "      <td>160296.36</td>\n",
       "      <td>M1979787155</td>\n",
       "      <td>0.00</td>\n",
       "      <td>0.00</td>\n",
       "      <td>0</td>\n",
       "    </tr>\n",
       "    <tr>\n",
       "      <th>1</th>\n",
       "      <td>1</td>\n",
       "      <td>PAYMENT</td>\n",
       "      <td>1864.28</td>\n",
       "      <td>C1666544295</td>\n",
       "      <td>21249.00</td>\n",
       "      <td>19384.72</td>\n",
       "      <td>M2044282225</td>\n",
       "      <td>0.00</td>\n",
       "      <td>0.00</td>\n",
       "      <td>0</td>\n",
       "    </tr>\n",
       "    <tr>\n",
       "      <th>2</th>\n",
       "      <td>1</td>\n",
       "      <td>TRANSFER</td>\n",
       "      <td>181.00</td>\n",
       "      <td>C1305486145</td>\n",
       "      <td>181.00</td>\n",
       "      <td>0.00</td>\n",
       "      <td>C553264065</td>\n",
       "      <td>0.00</td>\n",
       "      <td>0.00</td>\n",
       "      <td>1</td>\n",
       "    </tr>\n",
       "    <tr>\n",
       "      <th>3</th>\n",
       "      <td>1</td>\n",
       "      <td>CASH_OUT</td>\n",
       "      <td>181.00</td>\n",
       "      <td>C840083671</td>\n",
       "      <td>181.00</td>\n",
       "      <td>0.00</td>\n",
       "      <td>C38997010</td>\n",
       "      <td>21182.00</td>\n",
       "      <td>0.00</td>\n",
       "      <td>1</td>\n",
       "    </tr>\n",
       "    <tr>\n",
       "      <th>4</th>\n",
       "      <td>1</td>\n",
       "      <td>PAYMENT</td>\n",
       "      <td>11668.14</td>\n",
       "      <td>C2048537720</td>\n",
       "      <td>41554.00</td>\n",
       "      <td>29885.86</td>\n",
       "      <td>M1230701703</td>\n",
       "      <td>0.00</td>\n",
       "      <td>0.00</td>\n",
       "      <td>0</td>\n",
       "    </tr>\n",
       "    <tr>\n",
       "      <th>...</th>\n",
       "      <td>...</td>\n",
       "      <td>...</td>\n",
       "      <td>...</td>\n",
       "      <td>...</td>\n",
       "      <td>...</td>\n",
       "      <td>...</td>\n",
       "      <td>...</td>\n",
       "      <td>...</td>\n",
       "      <td>...</td>\n",
       "      <td>...</td>\n",
       "    </tr>\n",
       "    <tr>\n",
       "      <th>1048570</th>\n",
       "      <td>95</td>\n",
       "      <td>CASH_OUT</td>\n",
       "      <td>132557.35</td>\n",
       "      <td>C1179511630</td>\n",
       "      <td>479803.00</td>\n",
       "      <td>347245.65</td>\n",
       "      <td>C435674507</td>\n",
       "      <td>484329.37</td>\n",
       "      <td>616886.72</td>\n",
       "      <td>0</td>\n",
       "    </tr>\n",
       "    <tr>\n",
       "      <th>1048571</th>\n",
       "      <td>95</td>\n",
       "      <td>PAYMENT</td>\n",
       "      <td>9917.36</td>\n",
       "      <td>C1956161225</td>\n",
       "      <td>90545.00</td>\n",
       "      <td>80627.64</td>\n",
       "      <td>M668364942</td>\n",
       "      <td>0.00</td>\n",
       "      <td>0.00</td>\n",
       "      <td>0</td>\n",
       "    </tr>\n",
       "    <tr>\n",
       "      <th>1048572</th>\n",
       "      <td>95</td>\n",
       "      <td>PAYMENT</td>\n",
       "      <td>14140.05</td>\n",
       "      <td>C2037964975</td>\n",
       "      <td>20545.00</td>\n",
       "      <td>6404.95</td>\n",
       "      <td>M1355182933</td>\n",
       "      <td>0.00</td>\n",
       "      <td>0.00</td>\n",
       "      <td>0</td>\n",
       "    </tr>\n",
       "    <tr>\n",
       "      <th>1048573</th>\n",
       "      <td>95</td>\n",
       "      <td>PAYMENT</td>\n",
       "      <td>10020.05</td>\n",
       "      <td>C1633237354</td>\n",
       "      <td>90605.00</td>\n",
       "      <td>80584.95</td>\n",
       "      <td>M1964992463</td>\n",
       "      <td>0.00</td>\n",
       "      <td>0.00</td>\n",
       "      <td>0</td>\n",
       "    </tr>\n",
       "    <tr>\n",
       "      <th>1048574</th>\n",
       "      <td>95</td>\n",
       "      <td>PAYMENT</td>\n",
       "      <td>11450.03</td>\n",
       "      <td>C1264356443</td>\n",
       "      <td>80584.95</td>\n",
       "      <td>69134.92</td>\n",
       "      <td>M677577406</td>\n",
       "      <td>0.00</td>\n",
       "      <td>0.00</td>\n",
       "      <td>0</td>\n",
       "    </tr>\n",
       "  </tbody>\n",
       "</table>\n",
       "<p>1048575 rows × 10 columns</p>\n",
       "</div>"
      ],
      "text/plain": [
       "         step      type     amount     nameOrig  oldbalanceOrg  \\\n",
       "0           1   PAYMENT    9839.64  C1231006815      170136.00   \n",
       "1           1   PAYMENT    1864.28  C1666544295       21249.00   \n",
       "2           1  TRANSFER     181.00  C1305486145         181.00   \n",
       "3           1  CASH_OUT     181.00   C840083671         181.00   \n",
       "4           1   PAYMENT   11668.14  C2048537720       41554.00   \n",
       "...       ...       ...        ...          ...            ...   \n",
       "1048570    95  CASH_OUT  132557.35  C1179511630      479803.00   \n",
       "1048571    95   PAYMENT    9917.36  C1956161225       90545.00   \n",
       "1048572    95   PAYMENT   14140.05  C2037964975       20545.00   \n",
       "1048573    95   PAYMENT   10020.05  C1633237354       90605.00   \n",
       "1048574    95   PAYMENT   11450.03  C1264356443       80584.95   \n",
       "\n",
       "         newbalanceOrig     nameDest  oldbalanceDest  newbalanceDest  isFraud  \n",
       "0             160296.36  M1979787155            0.00            0.00        0  \n",
       "1              19384.72  M2044282225            0.00            0.00        0  \n",
       "2                  0.00   C553264065            0.00            0.00        1  \n",
       "3                  0.00    C38997010        21182.00            0.00        1  \n",
       "4              29885.86  M1230701703            0.00            0.00        0  \n",
       "...                 ...          ...             ...             ...      ...  \n",
       "1048570       347245.65   C435674507       484329.37       616886.72        0  \n",
       "1048571        80627.64   M668364942            0.00            0.00        0  \n",
       "1048572         6404.95  M1355182933            0.00            0.00        0  \n",
       "1048573        80584.95  M1964992463            0.00            0.00        0  \n",
       "1048574        69134.92   M677577406            0.00            0.00        0  \n",
       "\n",
       "[1048575 rows x 10 columns]"
      ]
     },
     "execution_count": 108,
     "metadata": {},
     "output_type": "execute_result"
    }
   ],
   "source": [
    "df"
   ]
  },
  {
   "cell_type": "code",
   "execution_count": 109,
   "id": "935aa210",
   "metadata": {},
   "outputs": [
    {
     "data": {
      "text/html": [
       "<div>\n",
       "<style scoped>\n",
       "    .dataframe tbody tr th:only-of-type {\n",
       "        vertical-align: middle;\n",
       "    }\n",
       "\n",
       "    .dataframe tbody tr th {\n",
       "        vertical-align: top;\n",
       "    }\n",
       "\n",
       "    .dataframe thead th {\n",
       "        text-align: right;\n",
       "    }\n",
       "</style>\n",
       "<table border=\"1\" class=\"dataframe\">\n",
       "  <thead>\n",
       "    <tr style=\"text-align: right;\">\n",
       "      <th></th>\n",
       "      <th>step</th>\n",
       "      <th>type</th>\n",
       "      <th>amount</th>\n",
       "      <th>nameOrig</th>\n",
       "      <th>oldbalanceOrg</th>\n",
       "      <th>newbalanceOrig</th>\n",
       "      <th>nameDest</th>\n",
       "      <th>oldbalanceDest</th>\n",
       "      <th>newbalanceDest</th>\n",
       "      <th>isFraud</th>\n",
       "    </tr>\n",
       "  </thead>\n",
       "  <tbody>\n",
       "    <tr>\n",
       "      <th>0</th>\n",
       "      <td>1</td>\n",
       "      <td>PAYMENT</td>\n",
       "      <td>9839.64</td>\n",
       "      <td>C1231006815</td>\n",
       "      <td>170136.0</td>\n",
       "      <td>160296.36</td>\n",
       "      <td>M1979787155</td>\n",
       "      <td>0.0</td>\n",
       "      <td>0.0</td>\n",
       "      <td>0</td>\n",
       "    </tr>\n",
       "    <tr>\n",
       "      <th>1</th>\n",
       "      <td>1</td>\n",
       "      <td>PAYMENT</td>\n",
       "      <td>1864.28</td>\n",
       "      <td>C1666544295</td>\n",
       "      <td>21249.0</td>\n",
       "      <td>19384.72</td>\n",
       "      <td>M2044282225</td>\n",
       "      <td>0.0</td>\n",
       "      <td>0.0</td>\n",
       "      <td>0</td>\n",
       "    </tr>\n",
       "    <tr>\n",
       "      <th>2</th>\n",
       "      <td>1</td>\n",
       "      <td>TRANSFER</td>\n",
       "      <td>181.00</td>\n",
       "      <td>C1305486145</td>\n",
       "      <td>181.0</td>\n",
       "      <td>0.00</td>\n",
       "      <td>C553264065</td>\n",
       "      <td>0.0</td>\n",
       "      <td>0.0</td>\n",
       "      <td>1</td>\n",
       "    </tr>\n",
       "    <tr>\n",
       "      <th>3</th>\n",
       "      <td>1</td>\n",
       "      <td>CASH_OUT</td>\n",
       "      <td>181.00</td>\n",
       "      <td>C840083671</td>\n",
       "      <td>181.0</td>\n",
       "      <td>0.00</td>\n",
       "      <td>C38997010</td>\n",
       "      <td>21182.0</td>\n",
       "      <td>0.0</td>\n",
       "      <td>1</td>\n",
       "    </tr>\n",
       "    <tr>\n",
       "      <th>4</th>\n",
       "      <td>1</td>\n",
       "      <td>PAYMENT</td>\n",
       "      <td>11668.14</td>\n",
       "      <td>C2048537720</td>\n",
       "      <td>41554.0</td>\n",
       "      <td>29885.86</td>\n",
       "      <td>M1230701703</td>\n",
       "      <td>0.0</td>\n",
       "      <td>0.0</td>\n",
       "      <td>0</td>\n",
       "    </tr>\n",
       "  </tbody>\n",
       "</table>\n",
       "</div>"
      ],
      "text/plain": [
       "   step      type    amount     nameOrig  oldbalanceOrg  newbalanceOrig  \\\n",
       "0     1   PAYMENT   9839.64  C1231006815       170136.0       160296.36   \n",
       "1     1   PAYMENT   1864.28  C1666544295        21249.0        19384.72   \n",
       "2     1  TRANSFER    181.00  C1305486145          181.0            0.00   \n",
       "3     1  CASH_OUT    181.00   C840083671          181.0            0.00   \n",
       "4     1   PAYMENT  11668.14  C2048537720        41554.0        29885.86   \n",
       "\n",
       "      nameDest  oldbalanceDest  newbalanceDest  isFraud  \n",
       "0  M1979787155             0.0             0.0        0  \n",
       "1  M2044282225             0.0             0.0        0  \n",
       "2   C553264065             0.0             0.0        1  \n",
       "3    C38997010         21182.0             0.0        1  \n",
       "4  M1230701703             0.0             0.0        0  "
      ]
     },
     "execution_count": 109,
     "metadata": {},
     "output_type": "execute_result"
    }
   ],
   "source": [
    "df.head()"
   ]
  },
  {
   "cell_type": "code",
   "execution_count": 110,
   "id": "1611f847",
   "metadata": {},
   "outputs": [
    {
     "data": {
      "text/html": [
       "<div>\n",
       "<style scoped>\n",
       "    .dataframe tbody tr th:only-of-type {\n",
       "        vertical-align: middle;\n",
       "    }\n",
       "\n",
       "    .dataframe tbody tr th {\n",
       "        vertical-align: top;\n",
       "    }\n",
       "\n",
       "    .dataframe thead th {\n",
       "        text-align: right;\n",
       "    }\n",
       "</style>\n",
       "<table border=\"1\" class=\"dataframe\">\n",
       "  <thead>\n",
       "    <tr style=\"text-align: right;\">\n",
       "      <th></th>\n",
       "      <th>step</th>\n",
       "      <th>type</th>\n",
       "      <th>amount</th>\n",
       "      <th>nameOrig</th>\n",
       "      <th>oldbalanceOrg</th>\n",
       "      <th>newbalanceOrig</th>\n",
       "      <th>nameDest</th>\n",
       "      <th>oldbalanceDest</th>\n",
       "      <th>newbalanceDest</th>\n",
       "      <th>isFraud</th>\n",
       "    </tr>\n",
       "  </thead>\n",
       "  <tbody>\n",
       "    <tr>\n",
       "      <th>1048570</th>\n",
       "      <td>95</td>\n",
       "      <td>CASH_OUT</td>\n",
       "      <td>132557.35</td>\n",
       "      <td>C1179511630</td>\n",
       "      <td>479803.00</td>\n",
       "      <td>347245.65</td>\n",
       "      <td>C435674507</td>\n",
       "      <td>484329.37</td>\n",
       "      <td>616886.72</td>\n",
       "      <td>0</td>\n",
       "    </tr>\n",
       "    <tr>\n",
       "      <th>1048571</th>\n",
       "      <td>95</td>\n",
       "      <td>PAYMENT</td>\n",
       "      <td>9917.36</td>\n",
       "      <td>C1956161225</td>\n",
       "      <td>90545.00</td>\n",
       "      <td>80627.64</td>\n",
       "      <td>M668364942</td>\n",
       "      <td>0.00</td>\n",
       "      <td>0.00</td>\n",
       "      <td>0</td>\n",
       "    </tr>\n",
       "    <tr>\n",
       "      <th>1048572</th>\n",
       "      <td>95</td>\n",
       "      <td>PAYMENT</td>\n",
       "      <td>14140.05</td>\n",
       "      <td>C2037964975</td>\n",
       "      <td>20545.00</td>\n",
       "      <td>6404.95</td>\n",
       "      <td>M1355182933</td>\n",
       "      <td>0.00</td>\n",
       "      <td>0.00</td>\n",
       "      <td>0</td>\n",
       "    </tr>\n",
       "    <tr>\n",
       "      <th>1048573</th>\n",
       "      <td>95</td>\n",
       "      <td>PAYMENT</td>\n",
       "      <td>10020.05</td>\n",
       "      <td>C1633237354</td>\n",
       "      <td>90605.00</td>\n",
       "      <td>80584.95</td>\n",
       "      <td>M1964992463</td>\n",
       "      <td>0.00</td>\n",
       "      <td>0.00</td>\n",
       "      <td>0</td>\n",
       "    </tr>\n",
       "    <tr>\n",
       "      <th>1048574</th>\n",
       "      <td>95</td>\n",
       "      <td>PAYMENT</td>\n",
       "      <td>11450.03</td>\n",
       "      <td>C1264356443</td>\n",
       "      <td>80584.95</td>\n",
       "      <td>69134.92</td>\n",
       "      <td>M677577406</td>\n",
       "      <td>0.00</td>\n",
       "      <td>0.00</td>\n",
       "      <td>0</td>\n",
       "    </tr>\n",
       "  </tbody>\n",
       "</table>\n",
       "</div>"
      ],
      "text/plain": [
       "         step      type     amount     nameOrig  oldbalanceOrg  \\\n",
       "1048570    95  CASH_OUT  132557.35  C1179511630      479803.00   \n",
       "1048571    95   PAYMENT    9917.36  C1956161225       90545.00   \n",
       "1048572    95   PAYMENT   14140.05  C2037964975       20545.00   \n",
       "1048573    95   PAYMENT   10020.05  C1633237354       90605.00   \n",
       "1048574    95   PAYMENT   11450.03  C1264356443       80584.95   \n",
       "\n",
       "         newbalanceOrig     nameDest  oldbalanceDest  newbalanceDest  isFraud  \n",
       "1048570       347245.65   C435674507       484329.37       616886.72        0  \n",
       "1048571        80627.64   M668364942            0.00            0.00        0  \n",
       "1048572         6404.95  M1355182933            0.00            0.00        0  \n",
       "1048573        80584.95  M1964992463            0.00            0.00        0  \n",
       "1048574        69134.92   M677577406            0.00            0.00        0  "
      ]
     },
     "execution_count": 110,
     "metadata": {},
     "output_type": "execute_result"
    }
   ],
   "source": [
    "df.tail()"
   ]
  },
  {
   "cell_type": "code",
   "execution_count": 111,
   "id": "5113187f",
   "metadata": {},
   "outputs": [],
   "source": [
    "plt.style.use('ggplot')\n",
    "warnings.filterwarnings ('ignore')"
   ]
  },
  {
   "cell_type": "code",
   "execution_count": 112,
   "id": "5567e7a4",
   "metadata": {},
   "outputs": [
    {
     "data": {
      "text/html": [
       "<div>\n",
       "<style scoped>\n",
       "    .dataframe tbody tr th:only-of-type {\n",
       "        vertical-align: middle;\n",
       "    }\n",
       "\n",
       "    .dataframe tbody tr th {\n",
       "        vertical-align: top;\n",
       "    }\n",
       "\n",
       "    .dataframe thead th {\n",
       "        text-align: right;\n",
       "    }\n",
       "</style>\n",
       "<table border=\"1\" class=\"dataframe\">\n",
       "  <thead>\n",
       "    <tr style=\"text-align: right;\">\n",
       "      <th></th>\n",
       "      <th>step</th>\n",
       "      <th>amount</th>\n",
       "      <th>oldbalanceOrg</th>\n",
       "      <th>newbalanceOrig</th>\n",
       "      <th>oldbalanceDest</th>\n",
       "      <th>newbalanceDest</th>\n",
       "      <th>isFraud</th>\n",
       "    </tr>\n",
       "  </thead>\n",
       "  <tbody>\n",
       "    <tr>\n",
       "      <th>step</th>\n",
       "      <td>1.000000</td>\n",
       "      <td>-0.025996</td>\n",
       "      <td>-0.006780</td>\n",
       "      <td>-0.007180</td>\n",
       "      <td>-0.002251</td>\n",
       "      <td>-0.019503</td>\n",
       "      <td>0.045030</td>\n",
       "    </tr>\n",
       "    <tr>\n",
       "      <th>amount</th>\n",
       "      <td>-0.025996</td>\n",
       "      <td>1.000000</td>\n",
       "      <td>0.004864</td>\n",
       "      <td>-0.001133</td>\n",
       "      <td>0.215558</td>\n",
       "      <td>0.311936</td>\n",
       "      <td>0.128862</td>\n",
       "    </tr>\n",
       "    <tr>\n",
       "      <th>oldbalanceOrg</th>\n",
       "      <td>-0.006780</td>\n",
       "      <td>0.004864</td>\n",
       "      <td>1.000000</td>\n",
       "      <td>0.999047</td>\n",
       "      <td>0.093305</td>\n",
       "      <td>0.064049</td>\n",
       "      <td>0.003829</td>\n",
       "    </tr>\n",
       "    <tr>\n",
       "      <th>newbalanceOrig</th>\n",
       "      <td>-0.007180</td>\n",
       "      <td>-0.001133</td>\n",
       "      <td>0.999047</td>\n",
       "      <td>1.000000</td>\n",
       "      <td>0.095182</td>\n",
       "      <td>0.063725</td>\n",
       "      <td>-0.009438</td>\n",
       "    </tr>\n",
       "    <tr>\n",
       "      <th>oldbalanceDest</th>\n",
       "      <td>-0.002251</td>\n",
       "      <td>0.215558</td>\n",
       "      <td>0.093305</td>\n",
       "      <td>0.095182</td>\n",
       "      <td>1.000000</td>\n",
       "      <td>0.978403</td>\n",
       "      <td>-0.007552</td>\n",
       "    </tr>\n",
       "    <tr>\n",
       "      <th>newbalanceDest</th>\n",
       "      <td>-0.019503</td>\n",
       "      <td>0.311936</td>\n",
       "      <td>0.064049</td>\n",
       "      <td>0.063725</td>\n",
       "      <td>0.978403</td>\n",
       "      <td>1.000000</td>\n",
       "      <td>-0.000495</td>\n",
       "    </tr>\n",
       "    <tr>\n",
       "      <th>isFraud</th>\n",
       "      <td>0.045030</td>\n",
       "      <td>0.128862</td>\n",
       "      <td>0.003829</td>\n",
       "      <td>-0.009438</td>\n",
       "      <td>-0.007552</td>\n",
       "      <td>-0.000495</td>\n",
       "      <td>1.000000</td>\n",
       "    </tr>\n",
       "  </tbody>\n",
       "</table>\n",
       "</div>"
      ],
      "text/plain": [
       "                    step    amount  oldbalanceOrg  newbalanceOrig  \\\n",
       "step            1.000000 -0.025996      -0.006780       -0.007180   \n",
       "amount         -0.025996  1.000000       0.004864       -0.001133   \n",
       "oldbalanceOrg  -0.006780  0.004864       1.000000        0.999047   \n",
       "newbalanceOrig -0.007180 -0.001133       0.999047        1.000000   \n",
       "oldbalanceDest -0.002251  0.215558       0.093305        0.095182   \n",
       "newbalanceDest -0.019503  0.311936       0.064049        0.063725   \n",
       "isFraud         0.045030  0.128862       0.003829       -0.009438   \n",
       "\n",
       "                oldbalanceDest  newbalanceDest   isFraud  \n",
       "step                 -0.002251       -0.019503  0.045030  \n",
       "amount                0.215558        0.311936  0.128862  \n",
       "oldbalanceOrg         0.093305        0.064049  0.003829  \n",
       "newbalanceOrig        0.095182        0.063725 -0.009438  \n",
       "oldbalanceDest        1.000000        0.978403 -0.007552  \n",
       "newbalanceDest        0.978403        1.000000 -0.000495  \n",
       "isFraud              -0.007552       -0.000495  1.000000  "
      ]
     },
     "execution_count": 112,
     "metadata": {},
     "output_type": "execute_result"
    }
   ],
   "source": [
    "#correlation\n",
    "df.corr()"
   ]
  },
  {
   "cell_type": "code",
   "execution_count": 113,
   "id": "82c1672b",
   "metadata": {},
   "outputs": [
    {
     "data": {
      "text/plain": [
       "<Axes: >"
      ]
     },
     "execution_count": 113,
     "metadata": {},
     "output_type": "execute_result"
    },
    {
     "data": {
      "image/png": "[encoded data removed]",
      "text/plain": [
       "<Figure size 640x480 with 2 Axes>"
      ]
     },
     "metadata": {},
     "output_type": "display_data"
    }
   ],
   "source": [
    "#Heatmap\n",
    "sns.heatmap(df.corr(),annot=True)"
   ]
  },
  {
   "cell_type": "code",
   "execution_count": 114,
   "id": "44c71c75",
   "metadata": {},
   "outputs": [
    {
     "data": {
      "text/plain": [
       "<Axes: xlabel='step', ylabel='Count'>"
      ]
     },
     "execution_count": 114,
     "metadata": {},
     "output_type": "execute_result"
    },
    {
     "data": {
      "image/png": "[encoded data removed]",
      "text/plain": [
       "<Figure size 640x480 with 1 Axes>"
      ]
     },
     "metadata": {},
     "output_type": "display_data"
    }
   ],
   "source": [
    "#univariate Analysis\n",
    "#step\n",
    "sns.histplot(data=df,x=\"step\")"
   ]
  },
  {
   "cell_type": "code",
   "execution_count": 115,
   "id": "b1a942a9",
   "metadata": {},
   "outputs": [
    {
     "data": {
      "text/plain": [
       "<Axes: xlabel='step'>"
      ]
     },
     "execution_count": 115,
     "metadata": {},
     "output_type": "execute_result"
    },
    {
     "data": {
      "image/png": "[encoded data removed]",
      "text/plain": [
       "<Figure size 640x480 with 1 Axes>"
      ]
     },
     "metadata": {},
     "output_type": "display_data"
    }
   ],
   "source": [
    "sns.boxplot(data=df,x=\"step\")"
   ]
  },
  {
   "cell_type": "code",
   "execution_count": 116,
   "id": "57ad9a12",
   "metadata": {},
   "outputs": [
    {
     "data": {
      "text/plain": [
       "<Axes: xlabel='type', ylabel='count'>"
      ]
     },
     "execution_count": 116,
     "metadata": {},
     "output_type": "execute_result"
    },
    {
     "data": {
      "image/png": "[encoded data removed]",
      "text/plain": [
       "<Figure size 640x480 with 1 Axes>"
      ]
     },
     "metadata": {},
     "output_type": "display_data"
    }
   ],
   "source": [
    "#type\n",
    "sns.countplot(data=df,x=\"type\")"
   ]
  },
  {
   "cell_type": "code",
   "execution_count": 117,
   "id": "54feebe1",
   "metadata": {},
   "outputs": [
    {
     "data": {
      "text/plain": [
       "<Axes: xlabel='amount', ylabel='Count'>"
      ]
     },
     "execution_count": 117,
     "metadata": {},
     "output_type": "execute_result"
    },
    {
     "data": {
      "image/png": "[encoded data removed]",
      "text/plain": [
       "<Figure size 640x480 with 1 Axes>"
      ]
     },
     "metadata": {},
     "output_type": "display_data"
    }
   ],
   "source": [
    "#amount\n",
    "sns.histplot(data=df,x=\"amount\")"
   ]
  },
  {
   "cell_type": "code",
   "execution_count": 118,
   "id": "c1d44b69",
   "metadata": {},
   "outputs": [
    {
     "data": {
      "text/plain": [
       "<Axes: xlabel='amount'>"
      ]
     },
     "execution_count": 118,
     "metadata": {},
     "output_type": "execute_result"
    },
    {
     "data": {
      "image/png": "[encoded data removed]",
      "text/plain": [
       "<Figure size 640x480 with 1 Axes>"
      ]
     },
     "metadata": {},
     "output_type": "display_data"
    }
   ],
   "source": [
    "#amount\n",
    "sns.boxplot(data=df,x=\"amount\")"
   ]
  },
  {
   "cell_type": "code",
   "execution_count": 119,
   "id": "5783d1c1",
   "metadata": {},
   "outputs": [
    {
     "data": {
      "text/plain": [
       "<Axes: xlabel='oldbalanceOrg', ylabel='Count'>"
      ]
     },
     "execution_count": 119,
     "metadata": {},
     "output_type": "execute_result"
    },
    {
     "data": {
      "image/png": "[encoded data removed]",
      "text/plain": [
       "<Figure size 640x480 with 1 Axes>"
      ]
     },
     "metadata": {},
     "output_type": "display_data"
    }
   ],
   "source": [
    "#oldbalanceOrg\n",
    "sns.histplot(data=df,x=\"oldbalanceOrg\")"
   ]
  },
  {
   "cell_type": "code",
   "execution_count": 120,
   "id": "ec0aafe1",
   "metadata": {},
   "outputs": [
    {
     "data": {
      "text/plain": [
       "C985934102     98\n",
       "C1286084959    96\n",
       "C1590550415    89\n",
       "C248609774     88\n",
       "C665576141     87\n",
       "               ..\n",
       "M382871047      1\n",
       "M322765556      1\n",
       "M1118794441     1\n",
       "M1127250627     1\n",
       "M677577406      1\n",
       "Name: nameDest, Length: 449635, dtype: int64"
      ]
     },
     "execution_count": 120,
     "metadata": {},
     "output_type": "execute_result"
    }
   ],
   "source": [
    "#nameDest\n",
    "df[\"nameDest\"].value_counts()"
   ]
  },
  {
   "cell_type": "code",
   "execution_count": 121,
   "id": "84d30e40",
   "metadata": {},
   "outputs": [
    {
     "data": {
      "text/plain": [
       "<Axes: xlabel='oldbalanceOrg'>"
      ]
     },
     "execution_count": 121,
     "metadata": {},
     "output_type": "execute_result"
    },
    {
     "data": {
      "image/png": "[encoded data removed]",
      "text/plain": [
       "<Figure size 640x480 with 1 Axes>"
      ]
     },
     "metadata": {},
     "output_type": "display_data"
    }
   ],
   "source": [
    "#oldbalanceOrg\n",
    "sns.boxplot(data=df,x=\"oldbalanceOrg\")"
   ]
  },
  {
   "cell_type": "code",
   "execution_count": 122,
   "id": "c9fa24ba",
   "metadata": {},
   "outputs": [
    {
     "data": {
      "text/plain": [
       "<Axes: xlabel='newbalanceDest'>"
      ]
     },
     "execution_count": 122,
     "metadata": {},
     "output_type": "execute_result"
    },
    {
     "data": {
      "image/png": "[encoded data removed]",
      "text/plain": [
       "<Figure size 640x480 with 1 Axes>"
      ]
     },
     "metadata": {},
     "output_type": "display_data"
    }
   ],
   "source": [
    "#newbalanceDest\n",
    "sns.boxplot(data=df,x=\"newbalanceDest\")"
   ]
  },
  {
   "cell_type": "code",
   "execution_count": 123,
   "id": "7eb1ad18",
   "metadata": {},
   "outputs": [
    {
     "data": {
      "text/plain": [
       "<Axes: xlabel='isFraud', ylabel='count'>"
      ]
     },
     "execution_count": 123,
     "metadata": {},
     "output_type": "execute_result"
    },
    {
     "data": {
      "image/png": "[encoded data removed]",
      "text/plain": [
       "<Figure size 640x480 with 1 Axes>"
      ]
     },
     "metadata": {},
     "output_type": "display_data"
    }
   ],
   "source": [
    "#isFraud\n",
    "sns.countplot(data=df,x=\"isFraud\")"
   ]
  },
  {
   "cell_type": "code",
   "execution_count": 124,
   "id": "0fee7fa5",
   "metadata": {},
   "outputs": [
    {
     "data": {
      "text/plain": [
       "0    1047433\n",
       "1       1142\n",
       "Name: isFraud, dtype: int64"
      ]
     },
     "execution_count": 124,
     "metadata": {},
     "output_type": "execute_result"
    }
   ],
   "source": [
    "df[\"isFraud\"].value_counts()"
   ]
  },
  {
   "cell_type": "code",
   "execution_count": 125,
   "id": "5a12180e",
   "metadata": {},
   "outputs": [],
   "source": [
    "df.loc[df[\"isFraud\"]==0,\"isFraud\"] = \"is not Fraud\"\n",
    "df.loc[df[\"isFraud\"]==1,\"isFraud\"] = \"is Fraud\""
   ]
  },
  {
   "cell_type": "code",
   "execution_count": 126,
   "id": "b2d4824f",
   "metadata": {},
   "outputs": [
    {
     "data": {
      "text/html": [
       "<div>\n",
       "<style scoped>\n",
       "    .dataframe tbody tr th:only-of-type {\n",
       "        vertical-align: middle;\n",
       "    }\n",
       "\n",
       "    .dataframe tbody tr th {\n",
       "        vertical-align: top;\n",
       "    }\n",
       "\n",
       "    .dataframe thead th {\n",
       "        text-align: right;\n",
       "    }\n",
       "</style>\n",
       "<table border=\"1\" class=\"dataframe\">\n",
       "  <thead>\n",
       "    <tr style=\"text-align: right;\">\n",
       "      <th></th>\n",
       "      <th>step</th>\n",
       "      <th>type</th>\n",
       "      <th>amount</th>\n",
       "      <th>nameOrig</th>\n",
       "      <th>oldbalanceOrg</th>\n",
       "      <th>newbalanceOrig</th>\n",
       "      <th>nameDest</th>\n",
       "      <th>oldbalanceDest</th>\n",
       "      <th>newbalanceDest</th>\n",
       "      <th>isFraud</th>\n",
       "    </tr>\n",
       "  </thead>\n",
       "  <tbody>\n",
       "    <tr>\n",
       "      <th>0</th>\n",
       "      <td>1</td>\n",
       "      <td>PAYMENT</td>\n",
       "      <td>9839.64</td>\n",
       "      <td>C1231006815</td>\n",
       "      <td>170136.00</td>\n",
       "      <td>160296.36</td>\n",
       "      <td>M1979787155</td>\n",
       "      <td>0.00</td>\n",
       "      <td>0.00</td>\n",
       "      <td>is not Fraud</td>\n",
       "    </tr>\n",
       "    <tr>\n",
       "      <th>1</th>\n",
       "      <td>1</td>\n",
       "      <td>PAYMENT</td>\n",
       "      <td>1864.28</td>\n",
       "      <td>C1666544295</td>\n",
       "      <td>21249.00</td>\n",
       "      <td>19384.72</td>\n",
       "      <td>M2044282225</td>\n",
       "      <td>0.00</td>\n",
       "      <td>0.00</td>\n",
       "      <td>is not Fraud</td>\n",
       "    </tr>\n",
       "    <tr>\n",
       "      <th>2</th>\n",
       "      <td>1</td>\n",
       "      <td>TRANSFER</td>\n",
       "      <td>181.00</td>\n",
       "      <td>C1305486145</td>\n",
       "      <td>181.00</td>\n",
       "      <td>0.00</td>\n",
       "      <td>C553264065</td>\n",
       "      <td>0.00</td>\n",
       "      <td>0.00</td>\n",
       "      <td>is Fraud</td>\n",
       "    </tr>\n",
       "    <tr>\n",
       "      <th>3</th>\n",
       "      <td>1</td>\n",
       "      <td>CASH_OUT</td>\n",
       "      <td>181.00</td>\n",
       "      <td>C840083671</td>\n",
       "      <td>181.00</td>\n",
       "      <td>0.00</td>\n",
       "      <td>C38997010</td>\n",
       "      <td>21182.00</td>\n",
       "      <td>0.00</td>\n",
       "      <td>is Fraud</td>\n",
       "    </tr>\n",
       "    <tr>\n",
       "      <th>4</th>\n",
       "      <td>1</td>\n",
       "      <td>PAYMENT</td>\n",
       "      <td>11668.14</td>\n",
       "      <td>C2048537720</td>\n",
       "      <td>41554.00</td>\n",
       "      <td>29885.86</td>\n",
       "      <td>M1230701703</td>\n",
       "      <td>0.00</td>\n",
       "      <td>0.00</td>\n",
       "      <td>is not Fraud</td>\n",
       "    </tr>\n",
       "    <tr>\n",
       "      <th>...</th>\n",
       "      <td>...</td>\n",
       "      <td>...</td>\n",
       "      <td>...</td>\n",
       "      <td>...</td>\n",
       "      <td>...</td>\n",
       "      <td>...</td>\n",
       "      <td>...</td>\n",
       "      <td>...</td>\n",
       "      <td>...</td>\n",
       "      <td>...</td>\n",
       "    </tr>\n",
       "    <tr>\n",
       "      <th>1048570</th>\n",
       "      <td>95</td>\n",
       "      <td>CASH_OUT</td>\n",
       "      <td>132557.35</td>\n",
       "      <td>C1179511630</td>\n",
       "      <td>479803.00</td>\n",
       "      <td>347245.65</td>\n",
       "      <td>C435674507</td>\n",
       "      <td>484329.37</td>\n",
       "      <td>616886.72</td>\n",
       "      <td>is not Fraud</td>\n",
       "    </tr>\n",
       "    <tr>\n",
       "      <th>1048571</th>\n",
       "      <td>95</td>\n",
       "      <td>PAYMENT</td>\n",
       "      <td>9917.36</td>\n",
       "      <td>C1956161225</td>\n",
       "      <td>90545.00</td>\n",
       "      <td>80627.64</td>\n",
       "      <td>M668364942</td>\n",
       "      <td>0.00</td>\n",
       "      <td>0.00</td>\n",
       "      <td>is not Fraud</td>\n",
       "    </tr>\n",
       "    <tr>\n",
       "      <th>1048572</th>\n",
       "      <td>95</td>\n",
       "      <td>PAYMENT</td>\n",
       "      <td>14140.05</td>\n",
       "      <td>C2037964975</td>\n",
       "      <td>20545.00</td>\n",
       "      <td>6404.95</td>\n",
       "      <td>M1355182933</td>\n",
       "      <td>0.00</td>\n",
       "      <td>0.00</td>\n",
       "      <td>is not Fraud</td>\n",
       "    </tr>\n",
       "    <tr>\n",
       "      <th>1048573</th>\n",
       "      <td>95</td>\n",
       "      <td>PAYMENT</td>\n",
       "      <td>10020.05</td>\n",
       "      <td>C1633237354</td>\n",
       "      <td>90605.00</td>\n",
       "      <td>80584.95</td>\n",
       "      <td>M1964992463</td>\n",
       "      <td>0.00</td>\n",
       "      <td>0.00</td>\n",
       "      <td>is not Fraud</td>\n",
       "    </tr>\n",
       "    <tr>\n",
       "      <th>1048574</th>\n",
       "      <td>95</td>\n",
       "      <td>PAYMENT</td>\n",
       "      <td>11450.03</td>\n",
       "      <td>C1264356443</td>\n",
       "      <td>80584.95</td>\n",
       "      <td>69134.92</td>\n",
       "      <td>M677577406</td>\n",
       "      <td>0.00</td>\n",
       "      <td>0.00</td>\n",
       "      <td>is not Fraud</td>\n",
       "    </tr>\n",
       "  </tbody>\n",
       "</table>\n",
       "<p>1048575 rows × 10 columns</p>\n",
       "</div>"
      ],
      "text/plain": [
       "         step      type     amount     nameOrig  oldbalanceOrg  \\\n",
       "0           1   PAYMENT    9839.64  C1231006815      170136.00   \n",
       "1           1   PAYMENT    1864.28  C1666544295       21249.00   \n",
       "2           1  TRANSFER     181.00  C1305486145         181.00   \n",
       "3           1  CASH_OUT     181.00   C840083671         181.00   \n",
       "4           1   PAYMENT   11668.14  C2048537720       41554.00   \n",
       "...       ...       ...        ...          ...            ...   \n",
       "1048570    95  CASH_OUT  132557.35  C1179511630      479803.00   \n",
       "1048571    95   PAYMENT    9917.36  C1956161225       90545.00   \n",
       "1048572    95   PAYMENT   14140.05  C2037964975       20545.00   \n",
       "1048573    95   PAYMENT   10020.05  C1633237354       90605.00   \n",
       "1048574    95   PAYMENT   11450.03  C1264356443       80584.95   \n",
       "\n",
       "         newbalanceOrig     nameDest  oldbalanceDest  newbalanceDest  \\\n",
       "0             160296.36  M1979787155            0.00            0.00   \n",
       "1              19384.72  M2044282225            0.00            0.00   \n",
       "2                  0.00   C553264065            0.00            0.00   \n",
       "3                  0.00    C38997010        21182.00            0.00   \n",
       "4              29885.86  M1230701703            0.00            0.00   \n",
       "...                 ...          ...             ...             ...   \n",
       "1048570       347245.65   C435674507       484329.37       616886.72   \n",
       "1048571        80627.64   M668364942            0.00            0.00   \n",
       "1048572         6404.95  M1355182933            0.00            0.00   \n",
       "1048573        80584.95  M1964992463            0.00            0.00   \n",
       "1048574        69134.92   M677577406            0.00            0.00   \n",
       "\n",
       "              isFraud  \n",
       "0        is not Fraud  \n",
       "1        is not Fraud  \n",
       "2            is Fraud  \n",
       "3            is Fraud  \n",
       "4        is not Fraud  \n",
       "...               ...  \n",
       "1048570  is not Fraud  \n",
       "1048571  is not Fraud  \n",
       "1048572  is not Fraud  \n",
       "1048573  is not Fraud  \n",
       "1048574  is not Fraud  \n",
       "\n",
       "[1048575 rows x 10 columns]"
      ]
     },
     "execution_count": 126,
     "metadata": {},
     "output_type": "execute_result"
    }
   ],
   "source": [
    "df"
   ]
  },
  {
   "cell_type": "code",
   "execution_count": 127,
   "id": "0cd5e081",
   "metadata": {},
   "outputs": [
    {
     "data": {
      "text/plain": [
       "<seaborn.axisgrid.JointGrid at 0x2460d00d960>"
      ]
     },
     "execution_count": 127,
     "metadata": {},
     "output_type": "execute_result"
    },
    {
     "data": {
      "image/png": "[encoded data removed]",
      "text/plain": [
       "<Figure size 600x600 with 3 Axes>"
      ]
     },
     "metadata": {},
     "output_type": "display_data"
    }
   ],
   "source": [
    "#bivariate Analysis\n",
    "sns.jointplot(data=df,x=\"newbalanceDest\",y=\"isFraud\")"
   ]
  },
  {
   "cell_type": "code",
   "execution_count": 128,
   "id": "076d5773",
   "metadata": {},
   "outputs": [
    {
     "data": {
      "text/plain": [
       "<Axes: xlabel='type', ylabel='count'>"
      ]
     },
     "execution_count": 128,
     "metadata": {},
     "output_type": "execute_result"
    },
    {
     "data": {
      "image/png": "[encoded data removed]",
      "text/plain": [
       "<Figure size 640x480 with 1 Axes>"
      ]
     },
     "metadata": {},
     "output_type": "display_data"
    }
   ],
   "source": [
    "sns.countplot(data=df,x='type',hue='isFraud')"
   ]
  },
  {
   "cell_type": "code",
   "execution_count": 129,
   "id": "a9d2b2ce",
   "metadata": {},
   "outputs": [
    {
     "data": {
      "text/plain": [
       "<Axes: xlabel='isFraud', ylabel='step'>"
      ]
     },
     "execution_count": 129,
     "metadata": {},
     "output_type": "execute_result"
    },
    {
     "data": {
      "image/png": "[encoded data removed]",
      "text/plain": [
       "<Figure size 640x480 with 1 Axes>"
      ]
     },
     "metadata": {},
     "output_type": "display_data"
    }
   ],
   "source": [
    "sns.boxplot(data=df,x=\"isFraud\",y=\"step\")"
   ]
  },
  {
   "cell_type": "code",
   "execution_count": 130,
   "id": "621414f2",
   "metadata": {},
   "outputs": [
    {
     "data": {
      "text/plain": [
       "<Axes: xlabel='isFraud', ylabel='amount'>"
      ]
     },
     "execution_count": 130,
     "metadata": {},
     "output_type": "execute_result"
    },
    {
     "data": {
      "image/png": "[encoded data removed]",
      "text/plain": [
       "<Figure size 640x480 with 1 Axes>"
      ]
     },
     "metadata": {},
     "output_type": "display_data"
    }
   ],
   "source": [
    "sns.boxplot(data=df,x=\"isFraud\",y=\"amount\")"
   ]
  },
  {
   "cell_type": "code",
   "execution_count": 131,
   "id": "ba536c28",
   "metadata": {},
   "outputs": [
    {
     "data": {
      "text/plain": [
       "<Axes: xlabel='isFraud', ylabel='oldbalanceOrg'>"
      ]
     },
     "execution_count": 131,
     "metadata": {},
     "output_type": "execute_result"
    },
    {
     "data": {
      "image/png": "[encoded data removed]",
      "text/plain": [
       "<Figure size 640x480 with 1 Axes>"
      ]
     },
     "metadata": {},
     "output_type": "display_data"
    }
   ],
   "source": [
    "sns.boxplot(data=df,x=\"isFraud\",y=\"oldbalanceOrg\")"
   ]
  },
  {
   "cell_type": "code",
   "execution_count": 132,
   "id": "f9c0650b",
   "metadata": {},
   "outputs": [
    {
     "data": {
      "text/plain": [
       "<Axes: xlabel='isFraud', ylabel='newbalanceOrig'>"
      ]
     },
     "execution_count": 132,
     "metadata": {},
     "output_type": "execute_result"
    },
    {
     "data": {
      "image/png": "[encoded data removed]",
      "text/plain": [
       "<Figure size 640x480 with 1 Axes>"
      ]
     },
     "metadata": {},
     "output_type": "display_data"
    }
   ],
   "source": [
    "sns.boxplot(data=df,x=\"isFraud\",y=\"newbalanceOrig\")"
   ]
  },
  {
   "cell_type": "code",
   "execution_count": 133,
   "id": "555094c7",
   "metadata": {},
   "outputs": [
    {
     "data": {
      "text/plain": [
       "<Axes: xlabel='isFraud', ylabel='oldbalanceDest'>"
      ]
     },
     "execution_count": 133,
     "metadata": {},
     "output_type": "execute_result"
    },
    {
     "data": {
      "image/png": "[encoded data removed]",
      "text/plain": [
       "<Figure size 640x480 with 1 Axes>"
      ]
     },
     "metadata": {},
     "output_type": "display_data"
    }
   ],
   "source": [
    "sns.violinplot(data=df,x=\"isFraud\",y=\"oldbalanceDest\")"
   ]
  },
  {
   "cell_type": "code",
   "execution_count": 134,
   "id": "ad61ae3d",
   "metadata": {},
   "outputs": [
    {
     "data": {
      "text/plain": [
       "<Axes: xlabel='isFraud', ylabel='newbalanceDest'>"
      ]
     },
     "execution_count": 134,
     "metadata": {},
     "output_type": "execute_result"
    },
    {
     "data": {
      "image/png": "[encoded data removed]",
      "text/plain": [
       "<Figure size 640x480 with 1 Axes>"
      ]
     },
     "metadata": {},
     "output_type": "display_data"
    }
   ],
   "source": [
    "sns.violinplot(data=df,x=\"isFraud\",y=\"newbalanceDest\")"
   ]
  },
  {
   "cell_type": "code",
   "execution_count": 135,
   "id": "9bf179b0",
   "metadata": {},
   "outputs": [
    {
     "data": {
      "text/html": [
       "<div>\n",
       "<style scoped>\n",
       "    .dataframe tbody tr th:only-of-type {\n",
       "        vertical-align: middle;\n",
       "    }\n",
       "\n",
       "    .dataframe tbody tr th {\n",
       "        vertical-align: top;\n",
       "    }\n",
       "\n",
       "    .dataframe thead th {\n",
       "        text-align: right;\n",
       "    }\n",
       "</style>\n",
       "<table border=\"1\" class=\"dataframe\">\n",
       "  <thead>\n",
       "    <tr style=\"text-align: right;\">\n",
       "      <th></th>\n",
       "      <th>step</th>\n",
       "      <th>type</th>\n",
       "      <th>amount</th>\n",
       "      <th>nameOrig</th>\n",
       "      <th>oldbalanceOrg</th>\n",
       "      <th>newbalanceOrig</th>\n",
       "      <th>nameDest</th>\n",
       "      <th>oldbalanceDest</th>\n",
       "      <th>newbalanceDest</th>\n",
       "      <th>isFraud</th>\n",
       "    </tr>\n",
       "  </thead>\n",
       "  <tbody>\n",
       "    <tr>\n",
       "      <th>count</th>\n",
       "      <td>1.048575e+06</td>\n",
       "      <td>1048575</td>\n",
       "      <td>1.048575e+06</td>\n",
       "      <td>1048575</td>\n",
       "      <td>1.048575e+06</td>\n",
       "      <td>1.048575e+06</td>\n",
       "      <td>1048575</td>\n",
       "      <td>1.048575e+06</td>\n",
       "      <td>1.048575e+06</td>\n",
       "      <td>1048575</td>\n",
       "    </tr>\n",
       "    <tr>\n",
       "      <th>unique</th>\n",
       "      <td>NaN</td>\n",
       "      <td>5</td>\n",
       "      <td>NaN</td>\n",
       "      <td>1048317</td>\n",
       "      <td>NaN</td>\n",
       "      <td>NaN</td>\n",
       "      <td>449635</td>\n",
       "      <td>NaN</td>\n",
       "      <td>NaN</td>\n",
       "      <td>2</td>\n",
       "    </tr>\n",
       "    <tr>\n",
       "      <th>top</th>\n",
       "      <td>NaN</td>\n",
       "      <td>CASH_OUT</td>\n",
       "      <td>NaN</td>\n",
       "      <td>C1214450722</td>\n",
       "      <td>NaN</td>\n",
       "      <td>NaN</td>\n",
       "      <td>C985934102</td>\n",
       "      <td>NaN</td>\n",
       "      <td>NaN</td>\n",
       "      <td>is not Fraud</td>\n",
       "    </tr>\n",
       "    <tr>\n",
       "      <th>freq</th>\n",
       "      <td>NaN</td>\n",
       "      <td>373641</td>\n",
       "      <td>NaN</td>\n",
       "      <td>2</td>\n",
       "      <td>NaN</td>\n",
       "      <td>NaN</td>\n",
       "      <td>98</td>\n",
       "      <td>NaN</td>\n",
       "      <td>NaN</td>\n",
       "      <td>1047433</td>\n",
       "    </tr>\n",
       "    <tr>\n",
       "      <th>mean</th>\n",
       "      <td>2.696617e+01</td>\n",
       "      <td>NaN</td>\n",
       "      <td>1.586670e+05</td>\n",
       "      <td>NaN</td>\n",
       "      <td>8.740095e+05</td>\n",
       "      <td>8.938089e+05</td>\n",
       "      <td>NaN</td>\n",
       "      <td>9.781600e+05</td>\n",
       "      <td>1.114198e+06</td>\n",
       "      <td>NaN</td>\n",
       "    </tr>\n",
       "    <tr>\n",
       "      <th>std</th>\n",
       "      <td>1.562325e+01</td>\n",
       "      <td>NaN</td>\n",
       "      <td>2.649409e+05</td>\n",
       "      <td>NaN</td>\n",
       "      <td>2.971751e+06</td>\n",
       "      <td>3.008271e+06</td>\n",
       "      <td>NaN</td>\n",
       "      <td>2.296780e+06</td>\n",
       "      <td>2.416593e+06</td>\n",
       "      <td>NaN</td>\n",
       "    </tr>\n",
       "    <tr>\n",
       "      <th>min</th>\n",
       "      <td>1.000000e+00</td>\n",
       "      <td>NaN</td>\n",
       "      <td>1.000000e-01</td>\n",
       "      <td>NaN</td>\n",
       "      <td>0.000000e+00</td>\n",
       "      <td>0.000000e+00</td>\n",
       "      <td>NaN</td>\n",
       "      <td>0.000000e+00</td>\n",
       "      <td>0.000000e+00</td>\n",
       "      <td>NaN</td>\n",
       "    </tr>\n",
       "    <tr>\n",
       "      <th>25%</th>\n",
       "      <td>1.500000e+01</td>\n",
       "      <td>NaN</td>\n",
       "      <td>1.214907e+04</td>\n",
       "      <td>NaN</td>\n",
       "      <td>0.000000e+00</td>\n",
       "      <td>0.000000e+00</td>\n",
       "      <td>NaN</td>\n",
       "      <td>0.000000e+00</td>\n",
       "      <td>0.000000e+00</td>\n",
       "      <td>NaN</td>\n",
       "    </tr>\n",
       "    <tr>\n",
       "      <th>50%</th>\n",
       "      <td>2.000000e+01</td>\n",
       "      <td>NaN</td>\n",
       "      <td>7.634333e+04</td>\n",
       "      <td>NaN</td>\n",
       "      <td>1.600200e+04</td>\n",
       "      <td>0.000000e+00</td>\n",
       "      <td>NaN</td>\n",
       "      <td>1.263772e+05</td>\n",
       "      <td>2.182604e+05</td>\n",
       "      <td>NaN</td>\n",
       "    </tr>\n",
       "    <tr>\n",
       "      <th>75%</th>\n",
       "      <td>3.900000e+01</td>\n",
       "      <td>NaN</td>\n",
       "      <td>2.137619e+05</td>\n",
       "      <td>NaN</td>\n",
       "      <td>1.366420e+05</td>\n",
       "      <td>1.746000e+05</td>\n",
       "      <td>NaN</td>\n",
       "      <td>9.159235e+05</td>\n",
       "      <td>1.149808e+06</td>\n",
       "      <td>NaN</td>\n",
       "    </tr>\n",
       "    <tr>\n",
       "      <th>max</th>\n",
       "      <td>9.500000e+01</td>\n",
       "      <td>NaN</td>\n",
       "      <td>1.000000e+07</td>\n",
       "      <td>NaN</td>\n",
       "      <td>3.890000e+07</td>\n",
       "      <td>3.890000e+07</td>\n",
       "      <td>NaN</td>\n",
       "      <td>4.210000e+07</td>\n",
       "      <td>4.220000e+07</td>\n",
       "      <td>NaN</td>\n",
       "    </tr>\n",
       "  </tbody>\n",
       "</table>\n",
       "</div>"
      ],
      "text/plain": [
       "                step      type        amount     nameOrig  oldbalanceOrg  \\\n",
       "count   1.048575e+06   1048575  1.048575e+06      1048575   1.048575e+06   \n",
       "unique           NaN         5           NaN      1048317            NaN   \n",
       "top              NaN  CASH_OUT           NaN  C1214450722            NaN   \n",
       "freq             NaN    373641           NaN            2            NaN   \n",
       "mean    2.696617e+01       NaN  1.586670e+05          NaN   8.740095e+05   \n",
       "std     1.562325e+01       NaN  2.649409e+05          NaN   2.971751e+06   \n",
       "min     1.000000e+00       NaN  1.000000e-01          NaN   0.000000e+00   \n",
       "25%     1.500000e+01       NaN  1.214907e+04          NaN   0.000000e+00   \n",
       "50%     2.000000e+01       NaN  7.634333e+04          NaN   1.600200e+04   \n",
       "75%     3.900000e+01       NaN  2.137619e+05          NaN   1.366420e+05   \n",
       "max     9.500000e+01       NaN  1.000000e+07          NaN   3.890000e+07   \n",
       "\n",
       "        newbalanceOrig    nameDest  oldbalanceDest  newbalanceDest  \\\n",
       "count     1.048575e+06     1048575    1.048575e+06    1.048575e+06   \n",
       "unique             NaN      449635             NaN             NaN   \n",
       "top                NaN  C985934102             NaN             NaN   \n",
       "freq               NaN          98             NaN             NaN   \n",
       "mean      8.938089e+05         NaN    9.781600e+05    1.114198e+06   \n",
       "std       3.008271e+06         NaN    2.296780e+06    2.416593e+06   \n",
       "min       0.000000e+00         NaN    0.000000e+00    0.000000e+00   \n",
       "25%       0.000000e+00         NaN    0.000000e+00    0.000000e+00   \n",
       "50%       0.000000e+00         NaN    1.263772e+05    2.182604e+05   \n",
       "75%       1.746000e+05         NaN    9.159235e+05    1.149808e+06   \n",
       "max       3.890000e+07         NaN    4.210000e+07    4.220000e+07   \n",
       "\n",
       "             isFraud  \n",
       "count        1048575  \n",
       "unique             2  \n",
       "top     is not Fraud  \n",
       "freq         1047433  \n",
       "mean             NaN  \n",
       "std              NaN  \n",
       "min              NaN  \n",
       "25%              NaN  \n",
       "50%              NaN  \n",
       "75%              NaN  \n",
       "max              NaN  "
      ]
     },
     "execution_count": 135,
     "metadata": {},
     "output_type": "execute_result"
    }
   ],
   "source": [
    "#Discriptive Analysis\n",
    "df.describe(include=\"all\")"
   ]
  },
  {
   "attachments": {},
   "cell_type": "markdown",
   "id": "beb67f59",
   "metadata": {},
   "source": [
    "# Data preprocessing"
   ]
  },
  {
   "cell_type": "code",
   "execution_count": 136,
   "id": "50d75e59",
   "metadata": {},
   "outputs": [
    {
     "data": {
      "text/plain": [
       "(1048575, 10)"
      ]
     },
     "execution_count": 136,
     "metadata": {},
     "output_type": "execute_result"
    }
   ],
   "source": [
    "#shape of csv data\n",
    "df.shape"
   ]
  },
  {
   "cell_type": "code",
   "execution_count": 137,
   "id": "1e541120",
   "metadata": {},
   "outputs": [
    {
     "data": {
      "text/plain": [
       "Index(['step', 'type', 'amount', 'oldbalanceOrg', 'newbalanceOrig',\n",
       "       'oldbalanceDest', 'newbalanceDest', 'isFraud'],\n",
       "      dtype='object')"
      ]
     },
     "execution_count": 137,
     "metadata": {},
     "output_type": "execute_result"
    }
   ],
   "source": [
    "df.drop([\"nameOrig\",\"nameDest\"], axis=1, inplace=True)\n",
    "df.columns"
   ]
  },
  {
   "cell_type": "code",
   "execution_count": 138,
   "id": "905f1eab",
   "metadata": {},
   "outputs": [
    {
     "data": {
      "text/html": [
       "<div>\n",
       "<style scoped>\n",
       "    .dataframe tbody tr th:only-of-type {\n",
       "        vertical-align: middle;\n",
       "    }\n",
       "\n",
       "    .dataframe tbody tr th {\n",
       "        vertical-align: top;\n",
       "    }\n",
       "\n",
       "    .dataframe thead th {\n",
       "        text-align: right;\n",
       "    }\n",
       "</style>\n",
       "<table border=\"1\" class=\"dataframe\">\n",
       "  <thead>\n",
       "    <tr style=\"text-align: right;\">\n",
       "      <th></th>\n",
       "      <th>step</th>\n",
       "      <th>type</th>\n",
       "      <th>amount</th>\n",
       "      <th>oldbalanceOrg</th>\n",
       "      <th>newbalanceOrig</th>\n",
       "      <th>oldbalanceDest</th>\n",
       "      <th>newbalanceDest</th>\n",
       "      <th>isFraud</th>\n",
       "    </tr>\n",
       "  </thead>\n",
       "  <tbody>\n",
       "    <tr>\n",
       "      <th>0</th>\n",
       "      <td>1</td>\n",
       "      <td>PAYMENT</td>\n",
       "      <td>9839.64</td>\n",
       "      <td>170136.0</td>\n",
       "      <td>160296.36</td>\n",
       "      <td>0.0</td>\n",
       "      <td>0.0</td>\n",
       "      <td>is not Fraud</td>\n",
       "    </tr>\n",
       "    <tr>\n",
       "      <th>1</th>\n",
       "      <td>1</td>\n",
       "      <td>PAYMENT</td>\n",
       "      <td>1864.28</td>\n",
       "      <td>21249.0</td>\n",
       "      <td>19384.72</td>\n",
       "      <td>0.0</td>\n",
       "      <td>0.0</td>\n",
       "      <td>is not Fraud</td>\n",
       "    </tr>\n",
       "    <tr>\n",
       "      <th>2</th>\n",
       "      <td>1</td>\n",
       "      <td>TRANSFER</td>\n",
       "      <td>181.00</td>\n",
       "      <td>181.0</td>\n",
       "      <td>0.00</td>\n",
       "      <td>0.0</td>\n",
       "      <td>0.0</td>\n",
       "      <td>is Fraud</td>\n",
       "    </tr>\n",
       "    <tr>\n",
       "      <th>3</th>\n",
       "      <td>1</td>\n",
       "      <td>CASH_OUT</td>\n",
       "      <td>181.00</td>\n",
       "      <td>181.0</td>\n",
       "      <td>0.00</td>\n",
       "      <td>21182.0</td>\n",
       "      <td>0.0</td>\n",
       "      <td>is Fraud</td>\n",
       "    </tr>\n",
       "    <tr>\n",
       "      <th>4</th>\n",
       "      <td>1</td>\n",
       "      <td>PAYMENT</td>\n",
       "      <td>11668.14</td>\n",
       "      <td>41554.0</td>\n",
       "      <td>29885.86</td>\n",
       "      <td>0.0</td>\n",
       "      <td>0.0</td>\n",
       "      <td>is not Fraud</td>\n",
       "    </tr>\n",
       "  </tbody>\n",
       "</table>\n",
       "</div>"
      ],
      "text/plain": [
       "   step      type    amount  oldbalanceOrg  newbalanceOrig  oldbalanceDest  \\\n",
       "0     1   PAYMENT   9839.64       170136.0       160296.36             0.0   \n",
       "1     1   PAYMENT   1864.28        21249.0        19384.72             0.0   \n",
       "2     1  TRANSFER    181.00          181.0            0.00             0.0   \n",
       "3     1  CASH_OUT    181.00          181.0            0.00         21182.0   \n",
       "4     1   PAYMENT  11668.14        41554.0        29885.86             0.0   \n",
       "\n",
       "   newbalanceDest       isFraud  \n",
       "0             0.0  is not Fraud  \n",
       "1             0.0  is not Fraud  \n",
       "2             0.0      is Fraud  \n",
       "3             0.0      is Fraud  \n",
       "4             0.0  is not Fraud  "
      ]
     },
     "execution_count": 138,
     "metadata": {},
     "output_type": "execute_result"
    }
   ],
   "source": [
    "df.head()"
   ]
  },
  {
   "attachments": {},
   "cell_type": "markdown",
   "id": "7b2578ad",
   "metadata": {},
   "source": [
    "### Checking for null values"
   ]
  },
  {
   "cell_type": "code",
   "execution_count": 139,
   "id": "d7152003",
   "metadata": {},
   "outputs": [
    {
     "data": {
      "text/plain": [
       "step              0\n",
       "type              0\n",
       "amount            0\n",
       "oldbalanceOrg     0\n",
       "newbalanceOrig    0\n",
       "oldbalanceDest    0\n",
       "newbalanceDest    0\n",
       "isFraud           0\n",
       "dtype: int64"
      ]
     },
     "execution_count": 139,
     "metadata": {},
     "output_type": "execute_result"
    }
   ],
   "source": [
    "#Finding null values\n",
    "df.isnull().sum()"
   ]
  },
  {
   "cell_type": "code",
   "execution_count": 140,
   "id": "4fec517f",
   "metadata": {},
   "outputs": [
    {
     "name": "stdout",
     "output_type": "stream",
     "text": [
      "<class 'pandas.core.frame.DataFrame'>\n",
      "RangeIndex: 1048575 entries, 0 to 1048574\n",
      "Data columns (total 8 columns):\n",
      " #   Column          Non-Null Count    Dtype  \n",
      "---  ------          --------------    -----  \n",
      " 0   step            1048575 non-null  int64  \n",
      " 1   type            1048575 non-null  object \n",
      " 2   amount          1048575 non-null  float64\n",
      " 3   oldbalanceOrg   1048575 non-null  float64\n",
      " 4   newbalanceOrig  1048575 non-null  float64\n",
      " 5   oldbalanceDest  1048575 non-null  float64\n",
      " 6   newbalanceDest  1048575 non-null  float64\n",
      " 7   isFraud         1048575 non-null  object \n",
      "dtypes: float64(5), int64(1), object(2)\n",
      "memory usage: 64.0+ MB\n"
     ]
    }
   ],
   "source": [
    "df.info()"
   ]
  },
  {
   "attachments": {},
   "cell_type": "markdown",
   "id": "e9b5af73",
   "metadata": {},
   "source": [
    "### Handling Outliers"
   ]
  },
  {
   "cell_type": "code",
   "execution_count": 141,
   "id": "8567b085",
   "metadata": {},
   "outputs": [
    {
     "data": {
      "text/plain": [
       "<Axes: >"
      ]
     },
     "execution_count": 141,
     "metadata": {},
     "output_type": "execute_result"
    },
    {
     "data": {
      "image/png": "[encoded data removed]",
      "text/plain": [
       "<Figure size 640x480 with 1 Axes>"
      ]
     },
     "metadata": {},
     "output_type": "display_data"
    }
   ],
   "source": [
    "sns.boxplot(df[\"amount\"])"
   ]
  },
  {
   "attachments": {},
   "cell_type": "markdown",
   "id": "2ad36f07",
   "metadata": {},
   "source": [
    "### Remove the outliers"
   ]
  },
  {
   "cell_type": "code",
   "execution_count": 143,
   "id": "9d40993e",
   "metadata": {},
   "outputs": [
    {
     "name": "stdout",
     "output_type": "stream",
     "text": [
      "ModeResult(mode=array([10000000.]), count=array([14]))\n",
      "158666.9755271392\n"
     ]
    }
   ],
   "source": [
    "from scipy import stats\n",
    "print(stats.mode(df[\"amount\"]))\n",
    "print(np.mean(df[\"amount\"]))"
   ]
  },
  {
   "cell_type": "code",
   "execution_count": 144,
   "id": "8bb67166",
   "metadata": {},
   "outputs": [
    {
     "name": "stdout",
     "output_type": "stream",
     "text": [
      "q1:  12149.065\n",
      "q3:  213761.89\n",
      "IQR:  201612.825\n",
      "upper_bound:  516181.12750000006\n",
      "lower_bound:  -290270.17250000004\n",
      "Skewed data:  53088\n",
      "Skewed data:  0\n"
     ]
    }
   ],
   "source": [
    "q1 = np.quantile(df[\"amount\"],0.25)\n",
    "q3 = np.quantile(df[\"amount\"],0.75)\n",
    "\n",
    "IQR = q3-q1\n",
    "\n",
    "upper_bound = q3+(1.5*IQR)\n",
    "lower_bound = q1-(1.5*IQR)\n",
    "\n",
    "print(\"q1: \",q1)\n",
    "print(\"q3: \",q3)\n",
    "print(\"IQR: \",IQR)\n",
    "print(\"upper_bound: \",upper_bound)\n",
    "print(\"lower_bound: \",lower_bound)\n",
    "print(\"Skewed data: \",len(df[df[\"amount\"]>upper_bound]))\n",
    "print(\"Skewed data: \",len(df[df[\"amount\"]<lower_bound]))"
   ]
  },
  {
   "cell_type": "code",
   "execution_count": 145,
   "id": "515dd272",
   "metadata": {},
   "outputs": [],
   "source": [
    "#TO handle outliers transformation techniques are used\n",
    "def transformationPlot (feature): \n",
    "    plt.figure(figsize=(12,5)) \n",
    "    plt.subplot (1,2,1) \n",
    "    sns.distplot(feature) \n",
    "    plt.subplot(1,2,2) \n",
    "    stats.probplot(feature, plot=plt) "
   ]
  },
  {
   "cell_type": "code",
   "execution_count": 147,
   "id": "2a378fbe",
   "metadata": {},
   "outputs": [
    {
     "data": {
      "image/png": "[encoded data removed]",
      "text/plain": [
       "<Figure size 1200x500 with 2 Axes>"
      ]
     },
     "metadata": {},
     "output_type": "display_data"
    }
   ],
   "source": [
    "transformationPlot(np.log(df['amount']))"
   ]
  },
  {
   "cell_type": "code",
   "execution_count": 148,
   "id": "86c78f17",
   "metadata": {},
   "outputs": [],
   "source": [
    "df[\"amount\"]=np.log(df[\"amount\"])"
   ]
  },
  {
   "cell_type": "code",
   "execution_count": 149,
   "id": "ac310033",
   "metadata": {},
   "outputs": [],
   "source": [
    "# Object Data Labelencoding\n",
    "\n",
    "from sklearn.preprocessing import LabelEncoder\n",
    "\n",
    "la=LabelEncoder()\n",
    "df[\"type\"]=la.fit_transform(df[\"type\"])"
   ]
  },
  {
   "cell_type": "code",
   "execution_count": 150,
   "id": "7d302109",
   "metadata": {},
   "outputs": [
    {
     "data": {
      "text/plain": [
       "1    373641\n",
       "3    353873\n",
       "0    227130\n",
       "4     86753\n",
       "2      7178\n",
       "Name: type, dtype: int64"
      ]
     },
     "execution_count": 150,
     "metadata": {},
     "output_type": "execute_result"
    }
   ],
   "source": [
    "df[\"type\"].value_counts()"
   ]
  },
  {
   "cell_type": "code",
   "execution_count": 151,
   "id": "276a62ce",
   "metadata": {},
   "outputs": [],
   "source": [
    "# Dividing the dataset into dependent and independent y and x respectively\n",
    "x=df.drop(\"isFraud\",axis=1)\n",
    "y=df[\"isFraud\"]"
   ]
  },
  {
   "cell_type": "code",
   "execution_count": 152,
   "id": "a5b652ab",
   "metadata": {},
   "outputs": [
    {
     "data": {
      "text/html": [
       "<div>\n",
       "<style scoped>\n",
       "    .dataframe tbody tr th:only-of-type {\n",
       "        vertical-align: middle;\n",
       "    }\n",
       "\n",
       "    .dataframe tbody tr th {\n",
       "        vertical-align: top;\n",
       "    }\n",
       "\n",
       "    .dataframe thead th {\n",
       "        text-align: right;\n",
       "    }\n",
       "</style>\n",
       "<table border=\"1\" class=\"dataframe\">\n",
       "  <thead>\n",
       "    <tr style=\"text-align: right;\">\n",
       "      <th></th>\n",
       "      <th>step</th>\n",
       "      <th>type</th>\n",
       "      <th>amount</th>\n",
       "      <th>oldbalanceOrg</th>\n",
       "      <th>newbalanceOrig</th>\n",
       "      <th>oldbalanceDest</th>\n",
       "      <th>newbalanceDest</th>\n",
       "    </tr>\n",
       "  </thead>\n",
       "  <tbody>\n",
       "    <tr>\n",
       "      <th>0</th>\n",
       "      <td>1</td>\n",
       "      <td>3</td>\n",
       "      <td>9.194174</td>\n",
       "      <td>170136.00</td>\n",
       "      <td>160296.36</td>\n",
       "      <td>0.00</td>\n",
       "      <td>0.00</td>\n",
       "    </tr>\n",
       "    <tr>\n",
       "      <th>1</th>\n",
       "      <td>1</td>\n",
       "      <td>3</td>\n",
       "      <td>7.530630</td>\n",
       "      <td>21249.00</td>\n",
       "      <td>19384.72</td>\n",
       "      <td>0.00</td>\n",
       "      <td>0.00</td>\n",
       "    </tr>\n",
       "    <tr>\n",
       "      <th>2</th>\n",
       "      <td>1</td>\n",
       "      <td>4</td>\n",
       "      <td>5.198497</td>\n",
       "      <td>181.00</td>\n",
       "      <td>0.00</td>\n",
       "      <td>0.00</td>\n",
       "      <td>0.00</td>\n",
       "    </tr>\n",
       "    <tr>\n",
       "      <th>3</th>\n",
       "      <td>1</td>\n",
       "      <td>1</td>\n",
       "      <td>5.198497</td>\n",
       "      <td>181.00</td>\n",
       "      <td>0.00</td>\n",
       "      <td>21182.00</td>\n",
       "      <td>0.00</td>\n",
       "    </tr>\n",
       "    <tr>\n",
       "      <th>4</th>\n",
       "      <td>1</td>\n",
       "      <td>3</td>\n",
       "      <td>9.364617</td>\n",
       "      <td>41554.00</td>\n",
       "      <td>29885.86</td>\n",
       "      <td>0.00</td>\n",
       "      <td>0.00</td>\n",
       "    </tr>\n",
       "    <tr>\n",
       "      <th>...</th>\n",
       "      <td>...</td>\n",
       "      <td>...</td>\n",
       "      <td>...</td>\n",
       "      <td>...</td>\n",
       "      <td>...</td>\n",
       "      <td>...</td>\n",
       "      <td>...</td>\n",
       "    </tr>\n",
       "    <tr>\n",
       "      <th>1048570</th>\n",
       "      <td>95</td>\n",
       "      <td>1</td>\n",
       "      <td>11.794771</td>\n",
       "      <td>479803.00</td>\n",
       "      <td>347245.65</td>\n",
       "      <td>484329.37</td>\n",
       "      <td>616886.72</td>\n",
       "    </tr>\n",
       "    <tr>\n",
       "      <th>1048571</th>\n",
       "      <td>95</td>\n",
       "      <td>3</td>\n",
       "      <td>9.202042</td>\n",
       "      <td>90545.00</td>\n",
       "      <td>80627.64</td>\n",
       "      <td>0.00</td>\n",
       "      <td>0.00</td>\n",
       "    </tr>\n",
       "    <tr>\n",
       "      <th>1048572</th>\n",
       "      <td>95</td>\n",
       "      <td>3</td>\n",
       "      <td>9.556766</td>\n",
       "      <td>20545.00</td>\n",
       "      <td>6404.95</td>\n",
       "      <td>0.00</td>\n",
       "      <td>0.00</td>\n",
       "    </tr>\n",
       "    <tr>\n",
       "      <th>1048573</th>\n",
       "      <td>95</td>\n",
       "      <td>3</td>\n",
       "      <td>9.212343</td>\n",
       "      <td>90605.00</td>\n",
       "      <td>80584.95</td>\n",
       "      <td>0.00</td>\n",
       "      <td>0.00</td>\n",
       "    </tr>\n",
       "    <tr>\n",
       "      <th>1048574</th>\n",
       "      <td>95</td>\n",
       "      <td>3</td>\n",
       "      <td>9.345748</td>\n",
       "      <td>80584.95</td>\n",
       "      <td>69134.92</td>\n",
       "      <td>0.00</td>\n",
       "      <td>0.00</td>\n",
       "    </tr>\n",
       "  </tbody>\n",
       "</table>\n",
       "<p>1048575 rows × 7 columns</p>\n",
       "</div>"
      ],
      "text/plain": [
       "         step  type     amount  oldbalanceOrg  newbalanceOrig  oldbalanceDest  \\\n",
       "0           1     3   9.194174      170136.00       160296.36            0.00   \n",
       "1           1     3   7.530630       21249.00        19384.72            0.00   \n",
       "2           1     4   5.198497         181.00            0.00            0.00   \n",
       "3           1     1   5.198497         181.00            0.00        21182.00   \n",
       "4           1     3   9.364617       41554.00        29885.86            0.00   \n",
       "...       ...   ...        ...            ...             ...             ...   \n",
       "1048570    95     1  11.794771      479803.00       347245.65       484329.37   \n",
       "1048571    95     3   9.202042       90545.00        80627.64            0.00   \n",
       "1048572    95     3   9.556766       20545.00         6404.95            0.00   \n",
       "1048573    95     3   9.212343       90605.00        80584.95            0.00   \n",
       "1048574    95     3   9.345748       80584.95        69134.92            0.00   \n",
       "\n",
       "         newbalanceDest  \n",
       "0                  0.00  \n",
       "1                  0.00  \n",
       "2                  0.00  \n",
       "3                  0.00  \n",
       "4                  0.00  \n",
       "...                 ...  \n",
       "1048570       616886.72  \n",
       "1048571            0.00  \n",
       "1048572            0.00  \n",
       "1048573            0.00  \n",
       "1048574            0.00  \n",
       "\n",
       "[1048575 rows x 7 columns]"
      ]
     },
     "execution_count": 152,
     "metadata": {},
     "output_type": "execute_result"
    }
   ],
   "source": [
    "x"
   ]
  },
  {
   "cell_type": "code",
   "execution_count": 153,
   "id": "5cab9dc4",
   "metadata": {},
   "outputs": [
    {
     "data": {
      "text/plain": [
       "0          is not Fraud\n",
       "1          is not Fraud\n",
       "2              is Fraud\n",
       "3              is Fraud\n",
       "4          is not Fraud\n",
       "               ...     \n",
       "1048570    is not Fraud\n",
       "1048571    is not Fraud\n",
       "1048572    is not Fraud\n",
       "1048573    is not Fraud\n",
       "1048574    is not Fraud\n",
       "Name: isFraud, Length: 1048575, dtype: object"
      ]
     },
     "execution_count": 153,
     "metadata": {},
     "output_type": "execute_result"
    }
   ],
   "source": [
    "y"
   ]
  },
  {
   "attachments": {},
   "cell_type": "markdown",
   "id": "f67abdd7",
   "metadata": {},
   "source": [
    "### Train test split"
   ]
  },
  {
   "cell_type": "code",
   "execution_count": 165,
   "id": "dcdbe0a5",
   "metadata": {},
   "outputs": [],
   "source": [
    "from sklearn.model_selection import train_test_split\n",
    "x_train,x_test,y_train,y_test=train_test_split(x,y,random_state=0,test_size=0.2)"
   ]
  },
  {
   "attachments": {},
   "cell_type": "markdown",
   "id": "b87d10d1",
   "metadata": {},
   "source": [
    "# Model Building"
   ]
  },
  {
   "attachments": {},
   "cell_type": "markdown",
   "id": "e18b2682",
   "metadata": {},
   "source": [
    "## 1.RandomForest clasifier"
   ]
  },
  {
   "cell_type": "code",
   "execution_count": 166,
   "id": "b3ca61fb",
   "metadata": {},
   "outputs": [
    {
     "data": {
      "text/plain": [
       "0.999756812817395"
      ]
     },
     "execution_count": 166,
     "metadata": {},
     "output_type": "execute_result"
    }
   ],
   "source": [
    "from sklearn.ensemble import RandomForestClassifier \n",
    "from sklearn.metrics import accuracy_score \n",
    "rfc=RandomForestClassifier() \n",
    "rfc.fit(x_train, y_train) \n",
    "\n",
    "y_test_predict1=rfc.predict(x_test)\n",
    "test_accuracy=accuracy_score(y_test,y_test_predict1)\n",
    "test_accuracy"
   ]
  },
  {
   "cell_type": "code",
   "execution_count": 167,
   "id": "dd7e404e",
   "metadata": {},
   "outputs": [
    {
     "data": {
      "text/plain": [
       "0.9999988079059676"
      ]
     },
     "execution_count": 167,
     "metadata": {},
     "output_type": "execute_result"
    }
   ],
   "source": [
    "y_train_predict1=rfc.predict(x_train)\n",
    "train_accuracy=accuracy_score(y_train,y_train_predict1)\n",
    "train_accuracy"
   ]
  },
  {
   "cell_type": "code",
   "execution_count": 171,
   "id": "1d098201",
   "metadata": {},
   "outputs": [
    {
     "data": {
      "text/html": [
       "<div>\n",
       "<style scoped>\n",
       "    .dataframe tbody tr th:only-of-type {\n",
       "        vertical-align: middle;\n",
       "    }\n",
       "\n",
       "    .dataframe tbody tr th {\n",
       "        vertical-align: top;\n",
       "    }\n",
       "\n",
       "    .dataframe thead th {\n",
       "        text-align: right;\n",
       "    }\n",
       "</style>\n",
       "<table border=\"1\" class=\"dataframe\">\n",
       "  <thead>\n",
       "    <tr style=\"text-align: right;\">\n",
       "      <th>col_0</th>\n",
       "      <th>is Fraud</th>\n",
       "      <th>is not Fraud</th>\n",
       "    </tr>\n",
       "    <tr>\n",
       "      <th>isFraud</th>\n",
       "      <th></th>\n",
       "      <th></th>\n",
       "    </tr>\n",
       "  </thead>\n",
       "  <tbody>\n",
       "    <tr>\n",
       "      <th>is Fraud</th>\n",
       "      <td>175</td>\n",
       "      <td>46</td>\n",
       "    </tr>\n",
       "    <tr>\n",
       "      <th>is not Fraud</th>\n",
       "      <td>5</td>\n",
       "      <td>209489</td>\n",
       "    </tr>\n",
       "  </tbody>\n",
       "</table>\n",
       "</div>"
      ],
      "text/plain": [
       "col_0         is Fraud  is not Fraud\n",
       "isFraud                             \n",
       "is Fraud           175            46\n",
       "is not Fraud         5        209489"
      ]
     },
     "execution_count": 171,
     "metadata": {},
     "output_type": "execute_result"
    }
   ],
   "source": [
    "pd.crosstab(y_test,y_test_predict1)"
   ]
  },
  {
   "cell_type": "code",
   "execution_count": 172,
   "id": "a1c11cd1",
   "metadata": {},
   "outputs": [
    {
     "name": "stdout",
     "output_type": "stream",
     "text": [
      "              precision    recall  f1-score   support\n",
      "\n",
      "    is Fraud       0.97      0.79      0.87       221\n",
      "is not Fraud       1.00      1.00      1.00    209494\n",
      "\n",
      "    accuracy                           1.00    209715\n",
      "   macro avg       0.99      0.90      0.94    209715\n",
      "weighted avg       1.00      1.00      1.00    209715\n",
      "\n"
     ]
    }
   ],
   "source": [
    "print(classification_report(y_test,y_test_predict1))"
   ]
  },
  {
   "attachments": {},
   "cell_type": "markdown",
   "id": "62430edd",
   "metadata": {},
   "source": [
    "# 2.Decision Tree classifier"
   ]
  },
  {
   "cell_type": "code",
   "execution_count": 173,
   "id": "50e78634",
   "metadata": {},
   "outputs": [
    {
     "data": {
      "text/plain": [
       "0.9995851512767328"
      ]
     },
     "execution_count": 173,
     "metadata": {},
     "output_type": "execute_result"
    }
   ],
   "source": [
    "from sklearn.tree import DecisionTreeClassifier \n",
    "dtc=DecisionTreeClassifier() \n",
    "dtc.fit(x_train, y_train) \n",
    "\n",
    "y_test_predict2=dtc.predict(x_test)\n",
    "test_accuracy=accuracy_score(y_test,y_test_predict2)\n",
    "test_accuracy"
   ]
  },
  {
   "cell_type": "code",
   "execution_count": 176,
   "id": "0e36639f",
   "metadata": {},
   "outputs": [
    {
     "data": {
      "text/plain": [
       "1.0"
      ]
     },
     "execution_count": 176,
     "metadata": {},
     "output_type": "execute_result"
    }
   ],
   "source": [
    "y_train_predict2=dtc.predict(x_train)\n",
    "train_accuracy=accuracy_score(y_train,y_train_predict2)\n",
    "train_accuracy"
   ]
  },
  {
   "cell_type": "code",
   "execution_count": 177,
   "id": "937e5a17",
   "metadata": {},
   "outputs": [
    {
     "data": {
      "text/html": [
       "<div>\n",
       "<style scoped>\n",
       "    .dataframe tbody tr th:only-of-type {\n",
       "        vertical-align: middle;\n",
       "    }\n",
       "\n",
       "    .dataframe tbody tr th {\n",
       "        vertical-align: top;\n",
       "    }\n",
       "\n",
       "    .dataframe thead th {\n",
       "        text-align: right;\n",
       "    }\n",
       "</style>\n",
       "<table border=\"1\" class=\"dataframe\">\n",
       "  <thead>\n",
       "    <tr style=\"text-align: right;\">\n",
       "      <th>col_0</th>\n",
       "      <th>is Fraud</th>\n",
       "      <th>is not Fraud</th>\n",
       "    </tr>\n",
       "    <tr>\n",
       "      <th>isFraud</th>\n",
       "      <th></th>\n",
       "      <th></th>\n",
       "    </tr>\n",
       "  </thead>\n",
       "  <tbody>\n",
       "    <tr>\n",
       "      <th>is Fraud</th>\n",
       "      <td>182</td>\n",
       "      <td>39</td>\n",
       "    </tr>\n",
       "    <tr>\n",
       "      <th>is not Fraud</th>\n",
       "      <td>48</td>\n",
       "      <td>209446</td>\n",
       "    </tr>\n",
       "  </tbody>\n",
       "</table>\n",
       "</div>"
      ],
      "text/plain": [
       "col_0         is Fraud  is not Fraud\n",
       "isFraud                             \n",
       "is Fraud           182            39\n",
       "is not Fraud        48        209446"
      ]
     },
     "execution_count": 177,
     "metadata": {},
     "output_type": "execute_result"
    }
   ],
   "source": [
    "pd.crosstab(y_test,y_test_predict2)"
   ]
  },
  {
   "cell_type": "code",
   "execution_count": 178,
   "id": "f4d6f95a",
   "metadata": {},
   "outputs": [
    {
     "name": "stdout",
     "output_type": "stream",
     "text": [
      "              precision    recall  f1-score   support\n",
      "\n",
      "    is Fraud       0.79      0.82      0.81       221\n",
      "is not Fraud       1.00      1.00      1.00    209494\n",
      "\n",
      "    accuracy                           1.00    209715\n",
      "   macro avg       0.90      0.91      0.90    209715\n",
      "weighted avg       1.00      1.00      1.00    209715\n",
      "\n"
     ]
    }
   ],
   "source": [
    "print(classification_report(y_test,y_test_predict2))"
   ]
  },
  {
   "attachments": {},
   "cell_type": "markdown",
   "id": "0c6a85ce",
   "metadata": {},
   "source": [
    "# 3.ExtraTreesClassifier"
   ]
  },
  {
   "cell_type": "code",
   "execution_count": 181,
   "id": "a0c34703",
   "metadata": {},
   "outputs": [
    {
     "data": {
      "text/plain": [
       "0.999747276065136"
      ]
     },
     "execution_count": 181,
     "metadata": {},
     "output_type": "execute_result"
    }
   ],
   "source": [
    "from sklearn.ensemble import ExtraTreesClassifier \n",
    "etc=ExtraTreesClassifier() \n",
    "etc.fit(x_train, y_train) \n",
    "\n",
    "y_test_predict3=etc.predict(x_test)\n",
    "test_accuracy=accuracy_score(y_test,y_test_predict3)\n",
    "test_accuracy"
   ]
  },
  {
   "cell_type": "code",
   "execution_count": 190,
   "id": "a8aa26e1",
   "metadata": {},
   "outputs": [
    {
     "data": {
      "text/plain": [
       "1.0"
      ]
     },
     "execution_count": 190,
     "metadata": {},
     "output_type": "execute_result"
    }
   ],
   "source": [
    "y_train_predict3=etc.predict(x_train)\n",
    "train_accuracy=accuracy_score(y_train,y_train_predict3)\n",
    "train_accuracy"
   ]
  },
  {
   "cell_type": "code",
   "execution_count": 191,
   "id": "1640d174",
   "metadata": {},
   "outputs": [
    {
     "data": {
      "text/html": [
       "<div>\n",
       "<style scoped>\n",
       "    .dataframe tbody tr th:only-of-type {\n",
       "        vertical-align: middle;\n",
       "    }\n",
       "\n",
       "    .dataframe tbody tr th {\n",
       "        vertical-align: top;\n",
       "    }\n",
       "\n",
       "    .dataframe thead th {\n",
       "        text-align: right;\n",
       "    }\n",
       "</style>\n",
       "<table border=\"1\" class=\"dataframe\">\n",
       "  <thead>\n",
       "    <tr style=\"text-align: right;\">\n",
       "      <th>col_0</th>\n",
       "      <th>is Fraud</th>\n",
       "      <th>is not Fraud</th>\n",
       "    </tr>\n",
       "    <tr>\n",
       "      <th>isFraud</th>\n",
       "      <th></th>\n",
       "      <th></th>\n",
       "    </tr>\n",
       "  </thead>\n",
       "  <tbody>\n",
       "    <tr>\n",
       "      <th>is Fraud</th>\n",
       "      <td>169</td>\n",
       "      <td>52</td>\n",
       "    </tr>\n",
       "    <tr>\n",
       "      <th>is not Fraud</th>\n",
       "      <td>1</td>\n",
       "      <td>209493</td>\n",
       "    </tr>\n",
       "  </tbody>\n",
       "</table>\n",
       "</div>"
      ],
      "text/plain": [
       "col_0         is Fraud  is not Fraud\n",
       "isFraud                             \n",
       "is Fraud           169            52\n",
       "is not Fraud         1        209493"
      ]
     },
     "execution_count": 191,
     "metadata": {},
     "output_type": "execute_result"
    }
   ],
   "source": [
    "pd.crosstab(y_test,y_test_predict3)"
   ]
  },
  {
   "cell_type": "code",
   "execution_count": 192,
   "id": "8638e042",
   "metadata": {},
   "outputs": [
    {
     "name": "stdout",
     "output_type": "stream",
     "text": [
      "              precision    recall  f1-score   support\n",
      "\n",
      "    is Fraud       0.99      0.76      0.86       221\n",
      "is not Fraud       1.00      1.00      1.00    209494\n",
      "\n",
      "    accuracy                           1.00    209715\n",
      "   macro avg       1.00      0.88      0.93    209715\n",
      "weighted avg       1.00      1.00      1.00    209715\n",
      "\n"
     ]
    }
   ],
   "source": [
    "print(classification_report(y_test,y_test_predict3))"
   ]
  },
  {
   "attachments": {},
   "cell_type": "markdown",
   "id": "40cf61c4",
   "metadata": {},
   "source": [
    "# 4.Support vector Machine classifier"
   ]
  },
  {
   "cell_type": "code",
   "execution_count": 195,
   "id": "06840e91",
   "metadata": {},
   "outputs": [
    {
     "data": {
      "text/plain": [
       "0.9991750709295949"
      ]
     },
     "execution_count": 195,
     "metadata": {},
     "output_type": "execute_result"
    }
   ],
   "source": [
    "from sklearn.svm import SVC\n",
    "from sklearn.metrics import accuracy_score\n",
    "svc= SVC()\n",
    "svc.fit(x_train,y_train)\n",
    "\n",
    "y_test_predict4=svc.predict(x_test)\n",
    "test_accuracy=accuracy_score(y_test,y_test_predict4)\n",
    "test_accuracy"
   ]
  },
  {
   "cell_type": "code",
   "execution_count": 197,
   "id": "3ce2c14d",
   "metadata": {},
   "outputs": [
    {
     "data": {
      "text/plain": [
       "0.9991166583220085"
      ]
     },
     "execution_count": 197,
     "metadata": {},
     "output_type": "execute_result"
    }
   ],
   "source": [
    "y_train_predict4=svc.predict(x_train)\n",
    "train_accuracy=accuracy_score(y_train,y_train_predict4)\n",
    "train_accuracy"
   ]
  },
  {
   "cell_type": "code",
   "execution_count": 198,
   "id": "1754de63",
   "metadata": {},
   "outputs": [
    {
     "data": {
      "text/html": [
       "<div>\n",
       "<style scoped>\n",
       "    .dataframe tbody tr th:only-of-type {\n",
       "        vertical-align: middle;\n",
       "    }\n",
       "\n",
       "    .dataframe tbody tr th {\n",
       "        vertical-align: top;\n",
       "    }\n",
       "\n",
       "    .dataframe thead th {\n",
       "        text-align: right;\n",
       "    }\n",
       "</style>\n",
       "<table border=\"1\" class=\"dataframe\">\n",
       "  <thead>\n",
       "    <tr style=\"text-align: right;\">\n",
       "      <th>col_0</th>\n",
       "      <th>is Fraud</th>\n",
       "      <th>is not Fraud</th>\n",
       "    </tr>\n",
       "    <tr>\n",
       "      <th>isFraud</th>\n",
       "      <th></th>\n",
       "      <th></th>\n",
       "    </tr>\n",
       "  </thead>\n",
       "  <tbody>\n",
       "    <tr>\n",
       "      <th>is Fraud</th>\n",
       "      <td>49</td>\n",
       "      <td>172</td>\n",
       "    </tr>\n",
       "    <tr>\n",
       "      <th>is not Fraud</th>\n",
       "      <td>1</td>\n",
       "      <td>209493</td>\n",
       "    </tr>\n",
       "  </tbody>\n",
       "</table>\n",
       "</div>"
      ],
      "text/plain": [
       "col_0         is Fraud  is not Fraud\n",
       "isFraud                             \n",
       "is Fraud            49           172\n",
       "is not Fraud         1        209493"
      ]
     },
     "execution_count": 198,
     "metadata": {},
     "output_type": "execute_result"
    }
   ],
   "source": [
    "pd.crosstab(y_test,y_test_predict4)"
   ]
  },
  {
   "cell_type": "code",
   "execution_count": 199,
   "id": "d3484a55",
   "metadata": {},
   "outputs": [
    {
     "name": "stdout",
     "output_type": "stream",
     "text": [
      "              precision    recall  f1-score   support\n",
      "\n",
      "    is Fraud       0.98      0.22      0.36       221\n",
      "is not Fraud       1.00      1.00      1.00    209494\n",
      "\n",
      "    accuracy                           1.00    209715\n",
      "   macro avg       0.99      0.61      0.68    209715\n",
      "weighted avg       1.00      1.00      1.00    209715\n",
      "\n"
     ]
    }
   ],
   "source": [
    "from sklearn.metrics import classification_report,confusion_matrix\n",
    "print(classification_report(y_test,y_test_predict4))"
   ]
  },
  {
   "cell_type": "code",
   "execution_count": 200,
   "id": "961a61ac",
   "metadata": {},
   "outputs": [
    {
     "data": {
      "text/plain": [
       "Index(['step', 'type', 'amount', 'oldbalanceOrg', 'newbalanceOrig',\n",
       "       'oldbalanceDest', 'newbalanceDest', 'isFraud'],\n",
       "      dtype='object')"
      ]
     },
     "execution_count": 200,
     "metadata": {},
     "output_type": "execute_result"
    }
   ],
   "source": [
    "df.columns"
   ]
  },
  {
   "cell_type": "code",
   "execution_count": 201,
   "id": "cb82e7ff",
   "metadata": {},
   "outputs": [],
   "source": [
    "from sklearn.preprocessing import LabelEncoder\n",
    "\n",
    "la= LabelEncoder()\n",
    "y_train1 = la.fit_transform(y_train)"
   ]
  },
  {
   "cell_type": "code",
   "execution_count": 202,
   "id": "52ac0d43",
   "metadata": {},
   "outputs": [],
   "source": [
    "y_test1=la.transform(y_test)"
   ]
  },
  {
   "cell_type": "code",
   "execution_count": 203,
   "id": "eeb39b5a",
   "metadata": {},
   "outputs": [],
   "source": [
    "y_test1=la.transform(y_test)"
   ]
  },
  {
   "cell_type": "code",
   "execution_count": 204,
   "id": "c2131e55",
   "metadata": {},
   "outputs": [
    {
     "data": {
      "text/plain": [
       "array([1, 1, 1, ..., 1, 1, 1])"
      ]
     },
     "execution_count": 204,
     "metadata": {},
     "output_type": "execute_result"
    }
   ],
   "source": [
    "y_test1"
   ]
  },
  {
   "cell_type": "code",
   "execution_count": 205,
   "id": "d0463db6",
   "metadata": {},
   "outputs": [
    {
     "data": {
      "text/plain": [
       "array([1, 1, 1, ..., 1, 1, 1])"
      ]
     },
     "execution_count": 205,
     "metadata": {},
     "output_type": "execute_result"
    }
   ],
   "source": [
    "y_train1"
   ]
  },
  {
   "attachments": {},
   "cell_type": "markdown",
   "id": "77866ae9",
   "metadata": {},
   "source": [
    "# Xgboost Classifier"
   ]
  },
  {
   "cell_type": "code",
   "execution_count": 206,
   "id": "a9df8c24",
   "metadata": {},
   "outputs": [
    {
     "data": {
      "text/plain": [
       "0.9998188017070787"
      ]
     },
     "execution_count": 206,
     "metadata": {},
     "output_type": "execute_result"
    }
   ],
   "source": [
    "import xgboost as xgb\n",
    "xgb1 = xgb.XGBClassifier()\n",
    "xgb1.fit(x_train,y_train1)\n",
    "\n",
    "y_test_predict5=xgb1.predict(x_test)\n",
    "test_accuracy=accuracy_score(y_test1,y_test_predict5)\n",
    "test_accuracy"
   ]
  },
  {
   "cell_type": "code",
   "execution_count": 207,
   "id": "681b3a03",
   "metadata": {},
   "outputs": [
    {
     "data": {
      "text/plain": [
       "0.9999606608969316"
      ]
     },
     "execution_count": 207,
     "metadata": {},
     "output_type": "execute_result"
    }
   ],
   "source": [
    "y_train_predict5=xgb1.predict(x_train)\n",
    "train_accuracy=accuracy_score(y_train1,y_train_predict5)\n",
    "train_accuracy"
   ]
  },
  {
   "cell_type": "code",
   "execution_count": 183,
   "id": "a031df2f",
   "metadata": {},
   "outputs": [
    {
     "data": {
      "text/html": [
       "<div>\n",
       "<style scoped>\n",
       "    .dataframe tbody tr th:only-of-type {\n",
       "        vertical-align: middle;\n",
       "    }\n",
       "\n",
       "    .dataframe tbody tr th {\n",
       "        vertical-align: top;\n",
       "    }\n",
       "\n",
       "    .dataframe thead th {\n",
       "        text-align: right;\n",
       "    }\n",
       "</style>\n",
       "<table border=\"1\" class=\"dataframe\">\n",
       "  <thead>\n",
       "    <tr style=\"text-align: right;\">\n",
       "      <th>col_0</th>\n",
       "      <th>0</th>\n",
       "      <th>1</th>\n",
       "    </tr>\n",
       "    <tr>\n",
       "      <th>row_0</th>\n",
       "      <th></th>\n",
       "      <th></th>\n",
       "    </tr>\n",
       "  </thead>\n",
       "  <tbody>\n",
       "    <tr>\n",
       "      <th>0</th>\n",
       "      <td>186</td>\n",
       "      <td>35</td>\n",
       "    </tr>\n",
       "    <tr>\n",
       "      <th>1</th>\n",
       "      <td>3</td>\n",
       "      <td>209491</td>\n",
       "    </tr>\n",
       "  </tbody>\n",
       "</table>\n",
       "</div>"
      ],
      "text/plain": [
       "col_0    0       1\n",
       "row_0             \n",
       "0      186      35\n",
       "1        3  209491"
      ]
     },
     "execution_count": 183,
     "metadata": {},
     "output_type": "execute_result"
    }
   ],
   "source": [
    "pd.crosstab(y_test1,y_test_predict5)"
   ]
  },
  {
   "cell_type": "code",
   "execution_count": 185,
   "id": "6ec4586c",
   "metadata": {},
   "outputs": [
    {
     "name": "stdout",
     "output_type": "stream",
     "text": [
      "              precision    recall  f1-score   support\n",
      "\n",
      "           0       0.98      0.84      0.91       221\n",
      "           1       1.00      1.00      1.00    209494\n",
      "\n",
      "    accuracy                           1.00    209715\n",
      "   macro avg       0.99      0.92      0.95    209715\n",
      "weighted avg       1.00      1.00      1.00    209715\n",
      "\n"
     ]
    }
   ],
   "source": [
    "from sklearn.metrics import classification_report,confusion_matrix\n",
    "print(classification_report(y_test1,y_test_predict5))"
   ]
  },
  {
   "attachments": {},
   "cell_type": "markdown",
   "id": "2b2fbfe3",
   "metadata": {},
   "source": [
    "# Compare models"
   ]
  },
  {
   "cell_type": "code",
   "execution_count": 208,
   "id": "d0b1a6b6",
   "metadata": {},
   "outputs": [],
   "source": [
    "def compareModel():\n",
    "    print(\"train accuracy for rfc\", accuracy_score(y_train_predict1,y_train))\n",
    "    print(\"test accuracy for rfc\", accuracy_score(y_test_predict1,y_test))\n",
    "    print(\"train accuracy for dtc\", accuracy_score(y_train_predict2,y_train))\n",
    "    print(\"test accuracy for dtc\", accuracy_score(y_test_predict2,y_test))\n",
    "    print(\"train accuracy for etc\", accuracy_score(y_train_predict3,y_train))\n",
    "    print(\"test accuracy for etc\", accuracy_score(y_test_predict3,y_test))\n",
    "    print(\"train accuracy for svc\", accuracy_score(y_train_predict4,y_train))\n",
    "    print(\"test accuracy for svc\", accuracy_score(y_test_predict4,y_test))\n",
    "    print(\"train accuracy for xgb1\", accuracy_score(y_train_predict5,y_train1))\n",
    "    print(\"test accuracy for xgb1\", accuracy_score(y_test_predict5,y_test1))"
   ]
  },
  {
   "cell_type": "code",
   "execution_count": 209,
   "id": "42bfe0de",
   "metadata": {},
   "outputs": [
    {
     "name": "stdout",
     "output_type": "stream",
     "text": [
      "train accuracy for rfc 0.9999988079059676\n",
      "test accuracy for rfc 0.999756812817395\n",
      "train accuracy for dtc 1.0\n",
      "test accuracy for dtc 0.9995851512767328\n",
      "train accuracy for etc 1.0\n",
      "test accuracy for etc 0.999747276065136\n",
      "train accuracy for svc 0.9991166583220085\n",
      "test accuracy for svc 0.9991750709295949\n",
      "train accuracy for xgb1 0.9999606608969316\n",
      "test accuracy for xgb1 0.9998188017070787\n"
     ]
    }
   ],
   "source": [
    "compareModel()"
   ]
  },
  {
   "cell_type": "code",
   "execution_count": 210,
   "id": "6738dbe1",
   "metadata": {},
   "outputs": [],
   "source": [
    "import pickle\n",
    "pickle.dump(svc,open(\"payments.pkl\",\"wb\"))"
   ]
  },
  {
   "cell_type": "code",
   "execution_count": null,
   "id": "9b6a5dfa",
   "metadata": {},
   "outputs": [],
   "source": []
  },
  {
   "cell_type": "code",
   "execution_count": null,
   "id": "caefbf08",
   "metadata": {},
   "outputs": [],
   "source": []
  },
  {
   "cell_type": "code",
   "execution_count": null,
   "id": "eaab2f6b",
   "metadata": {},
   "outputs": [],
   "source": []
  }
 ],
 "metadata": {
  "kernelspec": {
   "display_name": "Python 3 (ipykernel)",
   "language": "python",
   "name": "python3"
  },
  "language_info": {
   "codemirror_mode": {
    "name": "ipython",
    "version": 3
   },
   "file_extension": ".py",
   "mimetype": "text/x-python",
   "name": "python",
   "nbconvert_exporter": "python",
   "pygments_lexer": "ipython3",
   "version": "3.11.4"
  }
 },
 "nbformat": 4,
 "nbformat_minor": 5
}
